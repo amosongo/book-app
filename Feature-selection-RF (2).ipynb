{
 "cells": [
  {
   "cell_type": "code",
   "execution_count": 2,
   "id": "d5eed3fa-a597-4fc4-bca4-f0e1f3a92573",
   "metadata": {},
   "outputs": [],
   "source": [
    "#import libraries\n",
    "import pandas as pd\n",
    "import matplotlib.pyplot as plt\n",
    "import numpy as np\n",
    "from sklearn.preprocessing import StandardScaler, LabelEncoder\n",
    "from sklearn.model_selection import train_test_split\n",
    "from sklearn.discriminant_analysis import LinearDiscriminantAnalysis\n",
    "from sklearn.ensemble import RandomForestClassifier\n",
    "from sklearn.metrics import accuracy_score, confusion_matrix\n",
    "\n",
    "import seaborn as sns## for statistical tests\n",
    "import scipy\n",
    "import statsmodels.formula.api as smf\n",
    "import statsmodels.api as sm\n",
    "from sklearn import model_selection, preprocessing, feature_selection, ensemble, linear_model, metrics, decomposition## for explainer\n",
    "#from lime import lime_tabular"
   ]
  },
  {
   "cell_type": "code",
   "execution_count": 3,
   "id": "c1720a7b-6d5d-4a00-ab21-9b4079a938cf",
   "metadata": {},
   "outputs": [
    {
     "data": {
      "text/html": [
       "<div>\n",
       "<style scoped>\n",
       "    .dataframe tbody tr th:only-of-type {\n",
       "        vertical-align: middle;\n",
       "    }\n",
       "\n",
       "    .dataframe tbody tr th {\n",
       "        vertical-align: top;\n",
       "    }\n",
       "\n",
       "    .dataframe thead th {\n",
       "        text-align: right;\n",
       "    }\n",
       "</style>\n",
       "<table border=\"1\" class=\"dataframe\">\n",
       "  <thead>\n",
       "    <tr style=\"text-align: right;\">\n",
       "      <th></th>\n",
       "      <th>S2Sn1.Blue</th>\n",
       "      <th>S2Sn1.Green</th>\n",
       "      <th>S2Sn1.Red</th>\n",
       "      <th>S2Sn1.RE1</th>\n",
       "      <th>S2Sn1.RE2</th>\n",
       "      <th>S2Sn1.RE3</th>\n",
       "      <th>S2Sn1.NIR</th>\n",
       "      <th>S2Sn1.NNIR</th>\n",
       "      <th>S2Sn1.SWIR3</th>\n",
       "      <th>S2Sn1.SWIR4</th>\n",
       "      <th>...</th>\n",
       "      <th>TINDVIAfterMax</th>\n",
       "      <th>TINDVIAsymmetry</th>\n",
       "      <th>S1Sn1.VV</th>\n",
       "      <th>S1Sn1.VH</th>\n",
       "      <th>S1Sn2.VV</th>\n",
       "      <th>S1Sn2.VH</th>\n",
       "      <th>S1Sn3.VV</th>\n",
       "      <th>S1Sn3.VH</th>\n",
       "      <th>S1Sn4.VV</th>\n",
       "      <th>S1Sn4.VH</th>\n",
       "    </tr>\n",
       "  </thead>\n",
       "  <tbody>\n",
       "    <tr>\n",
       "      <th>count</th>\n",
       "      <td>10986.000000</td>\n",
       "      <td>10986.000000</td>\n",
       "      <td>10986.000000</td>\n",
       "      <td>10986.000000</td>\n",
       "      <td>10986.000000</td>\n",
       "      <td>10986.000000</td>\n",
       "      <td>10986.000000</td>\n",
       "      <td>10986.000000</td>\n",
       "      <td>10986.000000</td>\n",
       "      <td>10986.000000</td>\n",
       "      <td>...</td>\n",
       "      <td>10986.000000</td>\n",
       "      <td>10986.000000</td>\n",
       "      <td>10986.000000</td>\n",
       "      <td>10986.000000</td>\n",
       "      <td>10986.000000</td>\n",
       "      <td>10986.000000</td>\n",
       "      <td>10986.000000</td>\n",
       "      <td>10986.000000</td>\n",
       "      <td>10986.000000</td>\n",
       "      <td>10986.000000</td>\n",
       "    </tr>\n",
       "    <tr>\n",
       "      <th>mean</th>\n",
       "      <td>289.723603</td>\n",
       "      <td>576.896732</td>\n",
       "      <td>634.148052</td>\n",
       "      <td>1090.309849</td>\n",
       "      <td>2118.583151</td>\n",
       "      <td>2521.410249</td>\n",
       "      <td>2655.548061</td>\n",
       "      <td>1708.051384</td>\n",
       "      <td>1063.637402</td>\n",
       "      <td>2735.601038</td>\n",
       "      <td>...</td>\n",
       "      <td>6.454816</td>\n",
       "      <td>-3.479622</td>\n",
       "      <td>0.043687</td>\n",
       "      <td>0.161811</td>\n",
       "      <td>0.052919</td>\n",
       "      <td>0.200191</td>\n",
       "      <td>0.044584</td>\n",
       "      <td>0.164430</td>\n",
       "      <td>0.044929</td>\n",
       "      <td>0.166350</td>\n",
       "    </tr>\n",
       "    <tr>\n",
       "      <th>std</th>\n",
       "      <td>244.149897</td>\n",
       "      <td>299.588630</td>\n",
       "      <td>425.777041</td>\n",
       "      <td>397.871392</td>\n",
       "      <td>611.865340</td>\n",
       "      <td>790.524314</td>\n",
       "      <td>865.905277</td>\n",
       "      <td>764.403644</td>\n",
       "      <td>638.794359</td>\n",
       "      <td>890.263051</td>\n",
       "      <td>...</td>\n",
       "      <td>3.650242</td>\n",
       "      <td>3.845764</td>\n",
       "      <td>0.034288</td>\n",
       "      <td>0.176712</td>\n",
       "      <td>0.042648</td>\n",
       "      <td>0.192173</td>\n",
       "      <td>0.038367</td>\n",
       "      <td>0.189987</td>\n",
       "      <td>0.035707</td>\n",
       "      <td>0.172977</td>\n",
       "    </tr>\n",
       "    <tr>\n",
       "      <th>min</th>\n",
       "      <td>1.000000</td>\n",
       "      <td>130.000000</td>\n",
       "      <td>112.500000</td>\n",
       "      <td>174.000000</td>\n",
       "      <td>133.500000</td>\n",
       "      <td>178.000000</td>\n",
       "      <td>137.000000</td>\n",
       "      <td>111.000000</td>\n",
       "      <td>81.500000</td>\n",
       "      <td>143.500000</td>\n",
       "      <td>...</td>\n",
       "      <td>-6.054865</td>\n",
       "      <td>-13.655028</td>\n",
       "      <td>0.004847</td>\n",
       "      <td>0.008212</td>\n",
       "      <td>0.004861</td>\n",
       "      <td>0.008862</td>\n",
       "      <td>0.004763</td>\n",
       "      <td>0.007820</td>\n",
       "      <td>0.004794</td>\n",
       "      <td>0.009569</td>\n",
       "    </tr>\n",
       "    <tr>\n",
       "      <th>25%</th>\n",
       "      <td>144.000000</td>\n",
       "      <td>382.625000</td>\n",
       "      <td>317.500000</td>\n",
       "      <td>778.500000</td>\n",
       "      <td>1834.000000</td>\n",
       "      <td>2176.500000</td>\n",
       "      <td>2281.000000</td>\n",
       "      <td>1273.000000</td>\n",
       "      <td>622.000000</td>\n",
       "      <td>2405.000000</td>\n",
       "      <td>...</td>\n",
       "      <td>4.267315</td>\n",
       "      <td>-5.975927</td>\n",
       "      <td>0.024519</td>\n",
       "      <td>0.084441</td>\n",
       "      <td>0.032068</td>\n",
       "      <td>0.119572</td>\n",
       "      <td>0.022002</td>\n",
       "      <td>0.081064</td>\n",
       "      <td>0.025609</td>\n",
       "      <td>0.088610</td>\n",
       "    </tr>\n",
       "    <tr>\n",
       "      <th>50%</th>\n",
       "      <td>212.000000</td>\n",
       "      <td>503.500000</td>\n",
       "      <td>500.000000</td>\n",
       "      <td>1041.500000</td>\n",
       "      <td>2115.250000</td>\n",
       "      <td>2510.000000</td>\n",
       "      <td>2653.000000</td>\n",
       "      <td>1639.250000</td>\n",
       "      <td>849.000000</td>\n",
       "      <td>2761.000000</td>\n",
       "      <td>...</td>\n",
       "      <td>6.602171</td>\n",
       "      <td>-2.891208</td>\n",
       "      <td>0.037353</td>\n",
       "      <td>0.130825</td>\n",
       "      <td>0.044374</td>\n",
       "      <td>0.167913</td>\n",
       "      <td>0.036800</td>\n",
       "      <td>0.128276</td>\n",
       "      <td>0.037843</td>\n",
       "      <td>0.133982</td>\n",
       "    </tr>\n",
       "    <tr>\n",
       "      <th>75%</th>\n",
       "      <td>355.375000</td>\n",
       "      <td>680.000000</td>\n",
       "      <td>833.375000</td>\n",
       "      <td>1323.000000</td>\n",
       "      <td>2442.625000</td>\n",
       "      <td>2909.000000</td>\n",
       "      <td>3117.375000</td>\n",
       "      <td>2179.000000</td>\n",
       "      <td>1497.000000</td>\n",
       "      <td>3203.000000</td>\n",
       "      <td>...</td>\n",
       "      <td>8.671381</td>\n",
       "      <td>-0.827103</td>\n",
       "      <td>0.054738</td>\n",
       "      <td>0.195183</td>\n",
       "      <td>0.063089</td>\n",
       "      <td>0.235514</td>\n",
       "      <td>0.058484</td>\n",
       "      <td>0.198222</td>\n",
       "      <td>0.055507</td>\n",
       "      <td>0.199081</td>\n",
       "    </tr>\n",
       "    <tr>\n",
       "      <th>max</th>\n",
       "      <td>2997.000000</td>\n",
       "      <td>3218.000000</td>\n",
       "      <td>3320.000000</td>\n",
       "      <td>2898.000000</td>\n",
       "      <td>4262.000000</td>\n",
       "      <td>5126.000000</td>\n",
       "      <td>5569.000000</td>\n",
       "      <td>5516.500000</td>\n",
       "      <td>4683.500000</td>\n",
       "      <td>5500.000000</td>\n",
       "      <td>...</td>\n",
       "      <td>14.638000</td>\n",
       "      <td>9.031157</td>\n",
       "      <td>0.780539</td>\n",
       "      <td>7.586621</td>\n",
       "      <td>0.852460</td>\n",
       "      <td>6.111767</td>\n",
       "      <td>0.924117</td>\n",
       "      <td>6.738769</td>\n",
       "      <td>0.900095</td>\n",
       "      <td>6.814317</td>\n",
       "    </tr>\n",
       "  </tbody>\n",
       "</table>\n",
       "<p>8 rows × 71 columns</p>\n",
       "</div>"
      ],
      "text/plain": [
       "         S2Sn1.Blue   S2Sn1.Green     S2Sn1.Red     S2Sn1.RE1     S2Sn1.RE2  \\\n",
       "count  10986.000000  10986.000000  10986.000000  10986.000000  10986.000000   \n",
       "mean     289.723603    576.896732    634.148052   1090.309849   2118.583151   \n",
       "std      244.149897    299.588630    425.777041    397.871392    611.865340   \n",
       "min        1.000000    130.000000    112.500000    174.000000    133.500000   \n",
       "25%      144.000000    382.625000    317.500000    778.500000   1834.000000   \n",
       "50%      212.000000    503.500000    500.000000   1041.500000   2115.250000   \n",
       "75%      355.375000    680.000000    833.375000   1323.000000   2442.625000   \n",
       "max     2997.000000   3218.000000   3320.000000   2898.000000   4262.000000   \n",
       "\n",
       "          S2Sn1.RE3     S2Sn1.NIR    S2Sn1.NNIR   S2Sn1.SWIR3   S2Sn1.SWIR4  \\\n",
       "count  10986.000000  10986.000000  10986.000000  10986.000000  10986.000000   \n",
       "mean    2521.410249   2655.548061   1708.051384   1063.637402   2735.601038   \n",
       "std      790.524314    865.905277    764.403644    638.794359    890.263051   \n",
       "min      178.000000    137.000000    111.000000     81.500000    143.500000   \n",
       "25%     2176.500000   2281.000000   1273.000000    622.000000   2405.000000   \n",
       "50%     2510.000000   2653.000000   1639.250000    849.000000   2761.000000   \n",
       "75%     2909.000000   3117.375000   2179.000000   1497.000000   3203.000000   \n",
       "max     5126.000000   5569.000000   5516.500000   4683.500000   5500.000000   \n",
       "\n",
       "       ...  TINDVIAfterMax  TINDVIAsymmetry      S1Sn1.VV      S1Sn1.VH  \\\n",
       "count  ...    10986.000000     10986.000000  10986.000000  10986.000000   \n",
       "mean   ...        6.454816        -3.479622      0.043687      0.161811   \n",
       "std    ...        3.650242         3.845764      0.034288      0.176712   \n",
       "min    ...       -6.054865       -13.655028      0.004847      0.008212   \n",
       "25%    ...        4.267315        -5.975927      0.024519      0.084441   \n",
       "50%    ...        6.602171        -2.891208      0.037353      0.130825   \n",
       "75%    ...        8.671381        -0.827103      0.054738      0.195183   \n",
       "max    ...       14.638000         9.031157      0.780539      7.586621   \n",
       "\n",
       "           S1Sn2.VV      S1Sn2.VH      S1Sn3.VV      S1Sn3.VH      S1Sn4.VV  \\\n",
       "count  10986.000000  10986.000000  10986.000000  10986.000000  10986.000000   \n",
       "mean       0.052919      0.200191      0.044584      0.164430      0.044929   \n",
       "std        0.042648      0.192173      0.038367      0.189987      0.035707   \n",
       "min        0.004861      0.008862      0.004763      0.007820      0.004794   \n",
       "25%        0.032068      0.119572      0.022002      0.081064      0.025609   \n",
       "50%        0.044374      0.167913      0.036800      0.128276      0.037843   \n",
       "75%        0.063089      0.235514      0.058484      0.198222      0.055507   \n",
       "max        0.852460      6.111767      0.924117      6.738769      0.900095   \n",
       "\n",
       "           S1Sn4.VH  \n",
       "count  10986.000000  \n",
       "mean       0.166350  \n",
       "std        0.172977  \n",
       "min        0.009569  \n",
       "25%        0.088610  \n",
       "50%        0.133982  \n",
       "75%        0.199081  \n",
       "max        6.814317  \n",
       "\n",
       "[8 rows x 71 columns]"
      ]
     },
     "execution_count": 3,
     "metadata": {},
     "output_type": "execute_result"
    }
   ],
   "source": [
    "#load data\n",
    "df = pd.read_csv(\"data.csv\")\n",
    "df.describe()"
   ]
  },
  {
   "cell_type": "code",
   "execution_count": 5,
   "id": "0f3712e8-59a1-47d1-9167-78e8ca82229f",
   "metadata": {},
   "outputs": [
    {
     "data": {
      "text/html": [
       "<div>\n",
       "<style scoped>\n",
       "    .dataframe tbody tr th:only-of-type {\n",
       "        vertical-align: middle;\n",
       "    }\n",
       "\n",
       "    .dataframe tbody tr th {\n",
       "        vertical-align: top;\n",
       "    }\n",
       "\n",
       "    .dataframe thead th {\n",
       "        text-align: right;\n",
       "    }\n",
       "</style>\n",
       "<table border=\"1\" class=\"dataframe\">\n",
       "  <thead>\n",
       "    <tr style=\"text-align: right;\">\n",
       "      <th></th>\n",
       "      <th>S2Sn1.Blue</th>\n",
       "      <th>S2Sn1.Green</th>\n",
       "      <th>S2Sn1.Red</th>\n",
       "      <th>S2Sn1.RE1</th>\n",
       "      <th>S2Sn1.RE2</th>\n",
       "      <th>S2Sn1.RE3</th>\n",
       "      <th>S2Sn1.NIR</th>\n",
       "      <th>S2Sn1.NNIR</th>\n",
       "      <th>S2Sn1.SWIR3</th>\n",
       "      <th>S2Sn1.SWIR4</th>\n",
       "      <th>...</th>\n",
       "      <th>TINDVIAsymmetry</th>\n",
       "      <th>S1Sn1.VV</th>\n",
       "      <th>S1Sn1.VH</th>\n",
       "      <th>S1Sn2.VV</th>\n",
       "      <th>S1Sn2.VH</th>\n",
       "      <th>S1Sn3.VV</th>\n",
       "      <th>S1Sn3.VH</th>\n",
       "      <th>S1Sn4.VV</th>\n",
       "      <th>S1Sn4.VH</th>\n",
       "      <th>Class</th>\n",
       "    </tr>\n",
       "  </thead>\n",
       "  <tbody>\n",
       "    <tr>\n",
       "      <th>0</th>\n",
       "      <td>2892.0</td>\n",
       "      <td>2953.0</td>\n",
       "      <td>3320.0</td>\n",
       "      <td>2628.0</td>\n",
       "      <td>2993.0</td>\n",
       "      <td>3149.0</td>\n",
       "      <td>3586.0</td>\n",
       "      <td>3890.0</td>\n",
       "      <td>3924.0</td>\n",
       "      <td>3184.0</td>\n",
       "      <td>...</td>\n",
       "      <td>-0.370711</td>\n",
       "      <td>0.039430</td>\n",
       "      <td>1.239011</td>\n",
       "      <td>0.056008</td>\n",
       "      <td>0.620427</td>\n",
       "      <td>0.038737</td>\n",
       "      <td>0.292159</td>\n",
       "      <td>0.034488</td>\n",
       "      <td>0.454127</td>\n",
       "      <td>Built_area</td>\n",
       "    </tr>\n",
       "    <tr>\n",
       "      <th>1</th>\n",
       "      <td>2997.0</td>\n",
       "      <td>3218.0</td>\n",
       "      <td>3261.0</td>\n",
       "      <td>2628.0</td>\n",
       "      <td>2993.0</td>\n",
       "      <td>3149.0</td>\n",
       "      <td>3544.0</td>\n",
       "      <td>3890.0</td>\n",
       "      <td>3924.0</td>\n",
       "      <td>3184.0</td>\n",
       "      <td>...</td>\n",
       "      <td>1.144153</td>\n",
       "      <td>0.041160</td>\n",
       "      <td>1.634018</td>\n",
       "      <td>0.056521</td>\n",
       "      <td>0.960369</td>\n",
       "      <td>0.036981</td>\n",
       "      <td>0.299749</td>\n",
       "      <td>0.032929</td>\n",
       "      <td>0.470674</td>\n",
       "      <td>Built_area</td>\n",
       "    </tr>\n",
       "    <tr>\n",
       "      <th>2</th>\n",
       "      <td>1468.0</td>\n",
       "      <td>1866.5</td>\n",
       "      <td>2363.0</td>\n",
       "      <td>1991.5</td>\n",
       "      <td>2144.0</td>\n",
       "      <td>2189.5</td>\n",
       "      <td>2559.5</td>\n",
       "      <td>2641.5</td>\n",
       "      <td>2611.5</td>\n",
       "      <td>2201.0</td>\n",
       "      <td>...</td>\n",
       "      <td>-0.199264</td>\n",
       "      <td>0.043617</td>\n",
       "      <td>0.107153</td>\n",
       "      <td>0.074617</td>\n",
       "      <td>0.178752</td>\n",
       "      <td>0.047758</td>\n",
       "      <td>0.106462</td>\n",
       "      <td>0.039125</td>\n",
       "      <td>0.150803</td>\n",
       "      <td>Built_area</td>\n",
       "    </tr>\n",
       "    <tr>\n",
       "      <th>3</th>\n",
       "      <td>2436.0</td>\n",
       "      <td>2574.0</td>\n",
       "      <td>2653.0</td>\n",
       "      <td>2107.0</td>\n",
       "      <td>2562.0</td>\n",
       "      <td>2773.0</td>\n",
       "      <td>3099.0</td>\n",
       "      <td>3293.0</td>\n",
       "      <td>2923.0</td>\n",
       "      <td>2839.0</td>\n",
       "      <td>...</td>\n",
       "      <td>1.905906</td>\n",
       "      <td>0.042985</td>\n",
       "      <td>0.526712</td>\n",
       "      <td>0.056121</td>\n",
       "      <td>0.889728</td>\n",
       "      <td>0.036421</td>\n",
       "      <td>0.294085</td>\n",
       "      <td>0.033882</td>\n",
       "      <td>0.417073</td>\n",
       "      <td>Built_area</td>\n",
       "    </tr>\n",
       "    <tr>\n",
       "      <th>4</th>\n",
       "      <td>1921.0</td>\n",
       "      <td>2192.0</td>\n",
       "      <td>2327.5</td>\n",
       "      <td>2099.5</td>\n",
       "      <td>2293.5</td>\n",
       "      <td>2417.0</td>\n",
       "      <td>2737.5</td>\n",
       "      <td>3016.5</td>\n",
       "      <td>3052.5</td>\n",
       "      <td>2489.5</td>\n",
       "      <td>...</td>\n",
       "      <td>-0.439286</td>\n",
       "      <td>0.021763</td>\n",
       "      <td>0.115373</td>\n",
       "      <td>0.042416</td>\n",
       "      <td>0.449223</td>\n",
       "      <td>0.025203</td>\n",
       "      <td>0.125186</td>\n",
       "      <td>0.032452</td>\n",
       "      <td>0.125381</td>\n",
       "      <td>Built_area</td>\n",
       "    </tr>\n",
       "  </tbody>\n",
       "</table>\n",
       "<p>5 rows × 72 columns</p>\n",
       "</div>"
      ],
      "text/plain": [
       "   S2Sn1.Blue  S2Sn1.Green  S2Sn1.Red  S2Sn1.RE1  S2Sn1.RE2  S2Sn1.RE3  \\\n",
       "0      2892.0       2953.0     3320.0     2628.0     2993.0     3149.0   \n",
       "1      2997.0       3218.0     3261.0     2628.0     2993.0     3149.0   \n",
       "2      1468.0       1866.5     2363.0     1991.5     2144.0     2189.5   \n",
       "3      2436.0       2574.0     2653.0     2107.0     2562.0     2773.0   \n",
       "4      1921.0       2192.0     2327.5     2099.5     2293.5     2417.0   \n",
       "\n",
       "   S2Sn1.NIR  S2Sn1.NNIR  S2Sn1.SWIR3  S2Sn1.SWIR4  ...  TINDVIAsymmetry  \\\n",
       "0     3586.0      3890.0       3924.0       3184.0  ...        -0.370711   \n",
       "1     3544.0      3890.0       3924.0       3184.0  ...         1.144153   \n",
       "2     2559.5      2641.5       2611.5       2201.0  ...        -0.199264   \n",
       "3     3099.0      3293.0       2923.0       2839.0  ...         1.905906   \n",
       "4     2737.5      3016.5       3052.5       2489.5  ...        -0.439286   \n",
       "\n",
       "   S1Sn1.VV  S1Sn1.VH  S1Sn2.VV  S1Sn2.VH  S1Sn3.VV  S1Sn3.VH  S1Sn4.VV  \\\n",
       "0  0.039430  1.239011  0.056008  0.620427  0.038737  0.292159  0.034488   \n",
       "1  0.041160  1.634018  0.056521  0.960369  0.036981  0.299749  0.032929   \n",
       "2  0.043617  0.107153  0.074617  0.178752  0.047758  0.106462  0.039125   \n",
       "3  0.042985  0.526712  0.056121  0.889728  0.036421  0.294085  0.033882   \n",
       "4  0.021763  0.115373  0.042416  0.449223  0.025203  0.125186  0.032452   \n",
       "\n",
       "   S1Sn4.VH       Class  \n",
       "0  0.454127  Built_area  \n",
       "1  0.470674  Built_area  \n",
       "2  0.150803  Built_area  \n",
       "3  0.417073  Built_area  \n",
       "4  0.125381  Built_area  \n",
       "\n",
       "[5 rows x 72 columns]"
      ]
     },
     "execution_count": 5,
     "metadata": {},
     "output_type": "execute_result"
    }
   ],
   "source": [
    "df.head(5)"
   ]
  },
  {
   "cell_type": "code",
   "execution_count": 6,
   "id": "74cb4f1e-ee9e-4fc4-8562-c8e1a64ab4c0",
   "metadata": {},
   "outputs": [
    {
     "data": {
      "text/plain": [
       "(10986, 72)"
      ]
     },
     "execution_count": 6,
     "metadata": {},
     "output_type": "execute_result"
    }
   ],
   "source": [
    "#check dimensionm\n",
    "df.shape"
   ]
  },
  {
   "cell_type": "code",
   "execution_count": 7,
   "id": "5de88737-5ab6-4451-adb9-ccb5510c6dac",
   "metadata": {},
   "outputs": [],
   "source": [
    "#drop null values\n",
    "df = df.dropna()\n",
    "df = df.reset_index(drop=True)"
   ]
  },
  {
   "cell_type": "code",
   "execution_count": 9,
   "id": "615208fc-2362-476c-b203-10cec75d0ed0",
   "metadata": {},
   "outputs": [
    {
     "data": {
      "text/plain": [
       "(10986, 72)"
      ]
     },
     "execution_count": 9,
     "metadata": {},
     "output_type": "execute_result"
    }
   ],
   "source": [
    "df.shape"
   ]
  },
  {
   "cell_type": "code",
   "execution_count": null,
   "id": "cbfa15e4-e94d-4912-af94-620b33efd311",
   "metadata": {},
   "outputs": [],
   "source": [
    "'''\n",
    "for x in range(0, df.shape[1]-1, 1):\n",
    "    print(df.columns[x])\n",
    "    df1 = df.iloc[:, x]\n",
    "    df1.hist()    \n",
    "    plt.show()\n",
    "    \n",
    "    \n",
    "    x = df.columns[x] \n",
    "    fig, ax = plt.subplots(nrows=1, ncols=2,  sharex=False, sharey=False)\n",
    "    fig.suptitle(x, fontsize=20)### distribution\n",
    "    ax[0].title.set_text('distribution')\n",
    "    variable = df[x].fillna(df[x].mean())\n",
    "    breaks = np.quantile(variable, q=np.linspace(0, 1, 11))\n",
    "    variable = variable[(variable > breaks[0]) & (variable < \n",
    "                        breaks[10])]\n",
    "\n",
    "    sns.distplot(variable, hist=True, kde=True, kde_kws={\"shade\": True}, ax=ax[0])\n",
    "    des = df[x].describe()\n",
    "    ax[0].axvline(des[\"25%\"], ls='--')\n",
    "    ax[0].axvline(des[\"mean\"], ls='--')\n",
    "    ax[0].axvline(des[\"75%\"], ls='--')\n",
    "    ax[0].grid(True)\n",
    "\n",
    "    des = round(des, 2).apply(lambda x: str(x))\n",
    "    box = '\\n'.join((\"min: \"+des[\"min\"], \"25%: \"+des[\"25%\"], \"mean: \"+des[\"mean\"], \"75%: \"+des[\"75%\"], \"max: \"+des[\"max\"]))\n",
    "    ax[0].text(0.95, 0.95, box, transform=ax[0].transAxes, fontsize=10, va='top', ha=\"right\", bbox=dict(boxstyle='round', facecolor='white', alpha=1))### boxplot \n",
    "    ax[1].title.set_text('outliers (log scale)')\n",
    "    tmp_dtf = pd.DataFrame(df[x])\n",
    "    tmp_dtf[x] = np.log(tmp_dtf[x])\n",
    "    tmp_dtf.boxplot(column=x, ax=ax[1])\n",
    "    plt.show()\n",
    "    \n",
    "    \n",
    "    if(x==70):\n",
    "        break\n",
    "'''"
   ]
  },
  {
   "cell_type": "code",
   "execution_count": 10,
   "id": "ee340605-a2b5-44ca-b6ef-5d455929ab86",
   "metadata": {},
   "outputs": [
    {
     "name": "stdout",
     "output_type": "stream",
     "text": [
      "Built_area  ==  375\n",
      "Grassland  ==  936\n",
      "Mixedcrop_avocado  ==  191\n",
      "Mixedcrop_maize  ==  299\n",
      "Monocrop_avocado  ==  242\n",
      "Monocrop_coffee  ==  1462\n",
      "Monocrop_maize  ==  479\n",
      "Monocrop_pineapple  ==  1451\n",
      "Monocrop_tea  ==  406\n",
      "Natural_vegetation  ==  3005\n",
      "Shrubland  ==  743\n",
      "Water  ==  1397\n",
      "Total 10986 which is equal/not to original 10986\n",
      "[375, 936, 191, 299, 242, 1462, 479, 1451, 406, 3005, 743, 1397]\n"
     ]
    }
   ],
   "source": [
    "count = 0\n",
    "empty_array = []\n",
    "\n",
    "for i in range(len(df['Class'].unique())): \n",
    "    df2 = df.loc[df['Class'] == df['Class'].unique()[i]] \n",
    "    print(df['Class'].unique()[i], \" == \", df2.shape[0])\n",
    "    #recs.append(df['Class'].unique()[i],df2.shape[0])\n",
    "    empty_array.append(df2.shape[0])\n",
    "    count = count + df2.shape[0]\n",
    "\n",
    "print(\"Total\", count, \"which is equal/not to original\", df.shape[0])\n",
    "print(empty_array)"
   ]
  },
  {
   "cell_type": "code",
   "execution_count": 29,
   "id": "0d588760-fbb4-456f-90bc-a4d2adaf3706",
   "metadata": {},
   "outputs": [
    {
     "data": {
      "text/plain": [
       "(array([ 0,  1,  2,  3,  4,  5,  6,  7,  8,  9, 10, 11]),\n",
       " [Text(0, 0, 'Built_area'),\n",
       "  Text(1, 0, 'Grassland'),\n",
       "  Text(2, 0, 'Mixedcrop_avocado'),\n",
       "  Text(3, 0, 'Mixedcrop_maize'),\n",
       "  Text(4, 0, 'Monocrop_avocado'),\n",
       "  Text(5, 0, 'Monocrop_coffee'),\n",
       "  Text(6, 0, 'Monocrop_maize'),\n",
       "  Text(7, 0, 'Monocrop_pineapple'),\n",
       "  Text(8, 0, 'Monocrop_tea'),\n",
       "  Text(9, 0, 'Natural_vegetation'),\n",
       "  Text(10, 0, 'Shrubland'),\n",
       "  Text(11, 0, 'Water')])"
      ]
     },
     "execution_count": 29,
     "metadata": {},
     "output_type": "execute_result"
    },
    {
     "data": {
      "image/png": "[encoded data removed]",
      "text/plain": [
       "<Figure size 432x288 with 1 Axes>"
      ]
     },
     "metadata": {
      "needs_background": "light"
     },
     "output_type": "display_data"
    }
   ],
   "source": [
    "pdf = pd.DataFrame({'Classes':df['Class'].unique(), 'Count': empty_array})\n",
    "ax = pdf.plot.bar(x='Classes', y='Count', rot=0)\n",
    "plt.xticks(rotation=90)"
   ]
  },
  {
   "cell_type": "markdown",
   "id": "1165c9d4-fe52-44b2-b7bd-2624090ff9c9",
   "metadata": {},
   "source": [
    "## Preprocess the dataset"
   ]
  },
  {
   "cell_type": "markdown",
   "id": "a3d5194d-cf4b-4aad-b30d-2bff8218884f",
   "metadata": {},
   "source": [
    "Divide the dataset into class and target variable"
   ]
  },
  {
   "cell_type": "code",
   "execution_count": 12,
   "id": "b4c69cf4-1ca0-49bc-9e95-2763a88ba9f3",
   "metadata": {},
   "outputs": [],
   "source": [
    "X = df.iloc[:, 0:df.shape[1]-1].values\n",
    "y = df.iloc[:, df.shape[1]-1:df.shape[1]].values"
   ]
  },
  {
   "cell_type": "markdown",
   "id": "19cb0b04-d8d7-46c3-8d31-3449aa3bb766",
   "metadata": {},
   "source": [
    "Preprocess the dataset and divide into train and test"
   ]
  },
  {
   "cell_type": "code",
   "execution_count": 13,
   "id": "710c2aee-fa0d-426e-ae76-cdb5bedd3eb7",
   "metadata": {},
   "outputs": [
    {
     "data": {
      "text/plain": [
       "(10986, 71)"
      ]
     },
     "execution_count": 13,
     "metadata": {},
     "output_type": "execute_result"
    }
   ],
   "source": [
    "X.shape"
   ]
  },
  {
   "cell_type": "code",
   "execution_count": 14,
   "id": "b5628aca-a4e2-4241-bcdd-eeb11e272ed6",
   "metadata": {},
   "outputs": [
    {
     "data": {
      "text/plain": [
       "(10986, 1)"
      ]
     },
     "execution_count": 14,
     "metadata": {},
     "output_type": "execute_result"
    }
   ],
   "source": [
    "y.shape"
   ]
  },
  {
   "cell_type": "code",
   "execution_count": null,
   "id": "65878d09-8945-4d0b-86e4-2526edd545bd",
   "metadata": {},
   "outputs": [],
   "source": [
    "y[10000]"
   ]
  },
  {
   "cell_type": "code",
   "execution_count": 15,
   "id": "376961a1-4c58-4256-b983-0071c0bcfb45",
   "metadata": {},
   "outputs": [
    {
     "name": "stderr",
     "output_type": "stream",
     "text": [
      "C:\\Users\\ksenagi\\Anaconda3\\lib\\site-packages\\sklearn\\preprocessing\\_label.py:115: DataConversionWarning: A column-vector y was passed when a 1d array was expected. Please change the shape of y to (n_samples, ), for example using ravel().\n",
      "  y = column_or_1d(y, warn=True)\n"
     ]
    }
   ],
   "source": [
    "sc = StandardScaler()\n",
    "X = sc.fit_transform(X)\n",
    "le = LabelEncoder()\n",
    "y = le.fit_transform(y)\n",
    "X_train, X_test, y_train, y_test = train_test_split(X, y, test_size=0.2)"
   ]
  },
  {
   "cell_type": "code",
   "execution_count": 16,
   "id": "57ea852d-82d6-480e-9d84-1316a0539c4c",
   "metadata": {},
   "outputs": [
    {
     "data": {
      "text/plain": [
       "(8788, 71)"
      ]
     },
     "execution_count": 16,
     "metadata": {},
     "output_type": "execute_result"
    }
   ],
   "source": [
    "X_train.shape"
   ]
  },
  {
   "cell_type": "code",
   "execution_count": 17,
   "id": "e9ec956a-ddc1-4860-b826-644e69d1b801",
   "metadata": {},
   "outputs": [
    {
     "data": {
      "text/plain": [
       "array([-0.35522255, -0.56378782, -0.47009853,  0.1173552 ,  1.24611005,\n",
       "        1.37458037,  1.40836126, -1.00874255, -0.72739927,  1.24058752,\n",
       "       -0.4878312 , -0.84127024, -0.78419933, -0.27015137,  1.58489128,\n",
       "        1.7369459 ,  1.61433269, -1.25670361, -1.05038193,  1.36033396,\n",
       "       -0.73312983, -0.94582407, -0.80091428, -0.56593729,  1.38194495,\n",
       "        2.20875108,  2.03791238, -1.11363244, -0.97335631,  1.75089848,\n",
       "       -0.67359258, -0.667638  , -0.58926207, -0.51390568,  1.26745936,\n",
       "        1.58597355,  1.70449507, -1.02734862, -0.94292134,  1.57926632,\n",
       "        0.7155901 , -0.13556215,  0.77799862,  1.65456009,  0.54300669,\n",
       "        0.76558207,  0.71569718,  0.71559009,  1.18922253,  0.62653979,\n",
       "        0.85030629, -0.02775161,  1.34027721,  0.62461744,  0.31100062,\n",
       "       -0.61142795,  0.66130327,  0.28753549, -0.35278639, -0.39883805,\n",
       "        1.31083714,  1.09073767, -1.32494712,  4.56044466,  3.14385847,\n",
       "        0.97238676,  0.38310911,  0.5867019 ,  0.08109762,  1.16307883,\n",
       "        0.56730747])"
      ]
     },
     "execution_count": 17,
     "metadata": {},
     "output_type": "execute_result"
    }
   ],
   "source": [
    "X_train[1]"
   ]
  },
  {
   "cell_type": "code",
   "execution_count": 18,
   "id": "69794243-383e-4a5d-bc3c-c2ba7b515e6d",
   "metadata": {},
   "outputs": [
    {
     "data": {
      "text/plain": [
       "(2198, 71)"
      ]
     },
     "execution_count": 18,
     "metadata": {},
     "output_type": "execute_result"
    }
   ],
   "source": [
    "X_test.shape"
   ]
  },
  {
   "cell_type": "code",
   "execution_count": 19,
   "id": "9b4b5174-5085-40fc-80c6-9d550a8bbf06",
   "metadata": {},
   "outputs": [
    {
     "data": {
      "text/plain": [
       "(8788,)"
      ]
     },
     "execution_count": 19,
     "metadata": {},
     "output_type": "execute_result"
    }
   ],
   "source": [
    "y_train.shape"
   ]
  },
  {
   "cell_type": "code",
   "execution_count": 20,
   "id": "a52c4053-feb1-411f-bc6c-7eb10d498130",
   "metadata": {},
   "outputs": [
    {
     "data": {
      "text/plain": [
       "7"
      ]
     },
     "execution_count": 20,
     "metadata": {},
     "output_type": "execute_result"
    }
   ],
   "source": [
    "y_train[1]"
   ]
  },
  {
   "cell_type": "code",
   "execution_count": 21,
   "id": "ed330c8f-6caa-456c-bdfe-2ca1eb2c424f",
   "metadata": {},
   "outputs": [
    {
     "data": {
      "text/plain": [
       "(2198,)"
      ]
     },
     "execution_count": 21,
     "metadata": {},
     "output_type": "execute_result"
    }
   ],
   "source": [
    "y_test.shape"
   ]
  },
  {
   "cell_type": "code",
   "execution_count": 22,
   "id": "14073079-ee00-4fc3-a453-fe91264c726d",
   "metadata": {},
   "outputs": [],
   "source": [
    "df['Class_Ecoded'] = y"
   ]
  },
  {
   "cell_type": "code",
   "execution_count": 24,
   "id": "aa5a977a-10a5-4951-965e-193275a8bac2",
   "metadata": {},
   "outputs": [
    {
     "data": {
      "text/html": [
       "<div>\n",
       "<style scoped>\n",
       "    .dataframe tbody tr th:only-of-type {\n",
       "        vertical-align: middle;\n",
       "    }\n",
       "\n",
       "    .dataframe tbody tr th {\n",
       "        vertical-align: top;\n",
       "    }\n",
       "\n",
       "    .dataframe thead th {\n",
       "        text-align: right;\n",
       "    }\n",
       "</style>\n",
       "<table border=\"1\" class=\"dataframe\">\n",
       "  <thead>\n",
       "    <tr style=\"text-align: right;\">\n",
       "      <th></th>\n",
       "      <th>S2Sn1.Blue</th>\n",
       "      <th>S2Sn1.Green</th>\n",
       "      <th>S2Sn1.Red</th>\n",
       "      <th>S2Sn1.RE1</th>\n",
       "      <th>S2Sn1.RE2</th>\n",
       "      <th>S2Sn1.RE3</th>\n",
       "      <th>S2Sn1.NIR</th>\n",
       "      <th>S2Sn1.NNIR</th>\n",
       "      <th>S2Sn1.SWIR3</th>\n",
       "      <th>S2Sn1.SWIR4</th>\n",
       "      <th>...</th>\n",
       "      <th>S1Sn1.VV</th>\n",
       "      <th>S1Sn1.VH</th>\n",
       "      <th>S1Sn2.VV</th>\n",
       "      <th>S1Sn2.VH</th>\n",
       "      <th>S1Sn3.VV</th>\n",
       "      <th>S1Sn3.VH</th>\n",
       "      <th>S1Sn4.VV</th>\n",
       "      <th>S1Sn4.VH</th>\n",
       "      <th>Class</th>\n",
       "      <th>Class_Ecoded</th>\n",
       "    </tr>\n",
       "  </thead>\n",
       "  <tbody>\n",
       "    <tr>\n",
       "      <th>0</th>\n",
       "      <td>2892.0</td>\n",
       "      <td>2953.0</td>\n",
       "      <td>3320.0</td>\n",
       "      <td>2628.0</td>\n",
       "      <td>2993.0</td>\n",
       "      <td>3149.0</td>\n",
       "      <td>3586.0</td>\n",
       "      <td>3890.0</td>\n",
       "      <td>3924.0</td>\n",
       "      <td>3184.0</td>\n",
       "      <td>...</td>\n",
       "      <td>0.039430</td>\n",
       "      <td>1.239011</td>\n",
       "      <td>0.056008</td>\n",
       "      <td>0.620427</td>\n",
       "      <td>0.038737</td>\n",
       "      <td>0.292159</td>\n",
       "      <td>0.034488</td>\n",
       "      <td>0.454127</td>\n",
       "      <td>Built_area</td>\n",
       "      <td>0</td>\n",
       "    </tr>\n",
       "    <tr>\n",
       "      <th>1</th>\n",
       "      <td>2997.0</td>\n",
       "      <td>3218.0</td>\n",
       "      <td>3261.0</td>\n",
       "      <td>2628.0</td>\n",
       "      <td>2993.0</td>\n",
       "      <td>3149.0</td>\n",
       "      <td>3544.0</td>\n",
       "      <td>3890.0</td>\n",
       "      <td>3924.0</td>\n",
       "      <td>3184.0</td>\n",
       "      <td>...</td>\n",
       "      <td>0.041160</td>\n",
       "      <td>1.634018</td>\n",
       "      <td>0.056521</td>\n",
       "      <td>0.960369</td>\n",
       "      <td>0.036981</td>\n",
       "      <td>0.299749</td>\n",
       "      <td>0.032929</td>\n",
       "      <td>0.470674</td>\n",
       "      <td>Built_area</td>\n",
       "      <td>0</td>\n",
       "    </tr>\n",
       "    <tr>\n",
       "      <th>2</th>\n",
       "      <td>1468.0</td>\n",
       "      <td>1866.5</td>\n",
       "      <td>2363.0</td>\n",
       "      <td>1991.5</td>\n",
       "      <td>2144.0</td>\n",
       "      <td>2189.5</td>\n",
       "      <td>2559.5</td>\n",
       "      <td>2641.5</td>\n",
       "      <td>2611.5</td>\n",
       "      <td>2201.0</td>\n",
       "      <td>...</td>\n",
       "      <td>0.043617</td>\n",
       "      <td>0.107153</td>\n",
       "      <td>0.074617</td>\n",
       "      <td>0.178752</td>\n",
       "      <td>0.047758</td>\n",
       "      <td>0.106462</td>\n",
       "      <td>0.039125</td>\n",
       "      <td>0.150803</td>\n",
       "      <td>Built_area</td>\n",
       "      <td>0</td>\n",
       "    </tr>\n",
       "    <tr>\n",
       "      <th>3</th>\n",
       "      <td>2436.0</td>\n",
       "      <td>2574.0</td>\n",
       "      <td>2653.0</td>\n",
       "      <td>2107.0</td>\n",
       "      <td>2562.0</td>\n",
       "      <td>2773.0</td>\n",
       "      <td>3099.0</td>\n",
       "      <td>3293.0</td>\n",
       "      <td>2923.0</td>\n",
       "      <td>2839.0</td>\n",
       "      <td>...</td>\n",
       "      <td>0.042985</td>\n",
       "      <td>0.526712</td>\n",
       "      <td>0.056121</td>\n",
       "      <td>0.889728</td>\n",
       "      <td>0.036421</td>\n",
       "      <td>0.294085</td>\n",
       "      <td>0.033882</td>\n",
       "      <td>0.417073</td>\n",
       "      <td>Built_area</td>\n",
       "      <td>0</td>\n",
       "    </tr>\n",
       "    <tr>\n",
       "      <th>4</th>\n",
       "      <td>1921.0</td>\n",
       "      <td>2192.0</td>\n",
       "      <td>2327.5</td>\n",
       "      <td>2099.5</td>\n",
       "      <td>2293.5</td>\n",
       "      <td>2417.0</td>\n",
       "      <td>2737.5</td>\n",
       "      <td>3016.5</td>\n",
       "      <td>3052.5</td>\n",
       "      <td>2489.5</td>\n",
       "      <td>...</td>\n",
       "      <td>0.021763</td>\n",
       "      <td>0.115373</td>\n",
       "      <td>0.042416</td>\n",
       "      <td>0.449223</td>\n",
       "      <td>0.025203</td>\n",
       "      <td>0.125186</td>\n",
       "      <td>0.032452</td>\n",
       "      <td>0.125381</td>\n",
       "      <td>Built_area</td>\n",
       "      <td>0</td>\n",
       "    </tr>\n",
       "    <tr>\n",
       "      <th>5</th>\n",
       "      <td>1088.0</td>\n",
       "      <td>1604.0</td>\n",
       "      <td>1898.0</td>\n",
       "      <td>1814.0</td>\n",
       "      <td>1985.0</td>\n",
       "      <td>2158.0</td>\n",
       "      <td>2196.0</td>\n",
       "      <td>2801.0</td>\n",
       "      <td>2687.0</td>\n",
       "      <td>2216.0</td>\n",
       "      <td>...</td>\n",
       "      <td>0.081799</td>\n",
       "      <td>0.454275</td>\n",
       "      <td>0.080632</td>\n",
       "      <td>0.684181</td>\n",
       "      <td>0.097752</td>\n",
       "      <td>0.693160</td>\n",
       "      <td>0.078567</td>\n",
       "      <td>0.863824</td>\n",
       "      <td>Built_area</td>\n",
       "      <td>0</td>\n",
       "    </tr>\n",
       "    <tr>\n",
       "      <th>6</th>\n",
       "      <td>1080.0</td>\n",
       "      <td>1417.0</td>\n",
       "      <td>1816.0</td>\n",
       "      <td>1701.0</td>\n",
       "      <td>1663.0</td>\n",
       "      <td>1824.0</td>\n",
       "      <td>2120.0</td>\n",
       "      <td>2595.0</td>\n",
       "      <td>2628.0</td>\n",
       "      <td>1772.0</td>\n",
       "      <td>...</td>\n",
       "      <td>0.094893</td>\n",
       "      <td>0.563307</td>\n",
       "      <td>0.091202</td>\n",
       "      <td>0.818408</td>\n",
       "      <td>0.118514</td>\n",
       "      <td>0.810443</td>\n",
       "      <td>0.090654</td>\n",
       "      <td>0.936450</td>\n",
       "      <td>Built_area</td>\n",
       "      <td>0</td>\n",
       "    </tr>\n",
       "    <tr>\n",
       "      <th>7</th>\n",
       "      <td>1966.0</td>\n",
       "      <td>2229.0</td>\n",
       "      <td>2467.0</td>\n",
       "      <td>2111.0</td>\n",
       "      <td>2450.0</td>\n",
       "      <td>2652.0</td>\n",
       "      <td>2952.0</td>\n",
       "      <td>3431.0</td>\n",
       "      <td>3050.0</td>\n",
       "      <td>2970.0</td>\n",
       "      <td>...</td>\n",
       "      <td>0.045965</td>\n",
       "      <td>0.155308</td>\n",
       "      <td>0.060986</td>\n",
       "      <td>0.277246</td>\n",
       "      <td>0.045599</td>\n",
       "      <td>0.142492</td>\n",
       "      <td>0.045463</td>\n",
       "      <td>0.179687</td>\n",
       "      <td>Built_area</td>\n",
       "      <td>0</td>\n",
       "    </tr>\n",
       "    <tr>\n",
       "      <th>8</th>\n",
       "      <td>1515.0</td>\n",
       "      <td>1817.0</td>\n",
       "      <td>2280.0</td>\n",
       "      <td>2029.0</td>\n",
       "      <td>2231.0</td>\n",
       "      <td>2346.0</td>\n",
       "      <td>2701.0</td>\n",
       "      <td>3096.0</td>\n",
       "      <td>2904.0</td>\n",
       "      <td>2388.0</td>\n",
       "      <td>...</td>\n",
       "      <td>0.063704</td>\n",
       "      <td>0.119155</td>\n",
       "      <td>0.064706</td>\n",
       "      <td>0.203174</td>\n",
       "      <td>0.046573</td>\n",
       "      <td>0.140180</td>\n",
       "      <td>0.054829</td>\n",
       "      <td>0.194876</td>\n",
       "      <td>Built_area</td>\n",
       "      <td>0</td>\n",
       "    </tr>\n",
       "    <tr>\n",
       "      <th>9</th>\n",
       "      <td>1248.0</td>\n",
       "      <td>1787.0</td>\n",
       "      <td>2171.0</td>\n",
       "      <td>2029.0</td>\n",
       "      <td>2231.0</td>\n",
       "      <td>2346.0</td>\n",
       "      <td>2551.0</td>\n",
       "      <td>3096.0</td>\n",
       "      <td>2904.0</td>\n",
       "      <td>2388.0</td>\n",
       "      <td>...</td>\n",
       "      <td>0.065853</td>\n",
       "      <td>0.121286</td>\n",
       "      <td>0.065566</td>\n",
       "      <td>0.193616</td>\n",
       "      <td>0.046982</td>\n",
       "      <td>0.154834</td>\n",
       "      <td>0.057151</td>\n",
       "      <td>0.201063</td>\n",
       "      <td>Built_area</td>\n",
       "      <td>0</td>\n",
       "    </tr>\n",
       "  </tbody>\n",
       "</table>\n",
       "<p>10 rows × 73 columns</p>\n",
       "</div>"
      ],
      "text/plain": [
       "   S2Sn1.Blue  S2Sn1.Green  S2Sn1.Red  S2Sn1.RE1  S2Sn1.RE2  S2Sn1.RE3  \\\n",
       "0      2892.0       2953.0     3320.0     2628.0     2993.0     3149.0   \n",
       "1      2997.0       3218.0     3261.0     2628.0     2993.0     3149.0   \n",
       "2      1468.0       1866.5     2363.0     1991.5     2144.0     2189.5   \n",
       "3      2436.0       2574.0     2653.0     2107.0     2562.0     2773.0   \n",
       "4      1921.0       2192.0     2327.5     2099.5     2293.5     2417.0   \n",
       "5      1088.0       1604.0     1898.0     1814.0     1985.0     2158.0   \n",
       "6      1080.0       1417.0     1816.0     1701.0     1663.0     1824.0   \n",
       "7      1966.0       2229.0     2467.0     2111.0     2450.0     2652.0   \n",
       "8      1515.0       1817.0     2280.0     2029.0     2231.0     2346.0   \n",
       "9      1248.0       1787.0     2171.0     2029.0     2231.0     2346.0   \n",
       "\n",
       "   S2Sn1.NIR  S2Sn1.NNIR  S2Sn1.SWIR3  S2Sn1.SWIR4  ...  S1Sn1.VV  S1Sn1.VH  \\\n",
       "0     3586.0      3890.0       3924.0       3184.0  ...  0.039430  1.239011   \n",
       "1     3544.0      3890.0       3924.0       3184.0  ...  0.041160  1.634018   \n",
       "2     2559.5      2641.5       2611.5       2201.0  ...  0.043617  0.107153   \n",
       "3     3099.0      3293.0       2923.0       2839.0  ...  0.042985  0.526712   \n",
       "4     2737.5      3016.5       3052.5       2489.5  ...  0.021763  0.115373   \n",
       "5     2196.0      2801.0       2687.0       2216.0  ...  0.081799  0.454275   \n",
       "6     2120.0      2595.0       2628.0       1772.0  ...  0.094893  0.563307   \n",
       "7     2952.0      3431.0       3050.0       2970.0  ...  0.045965  0.155308   \n",
       "8     2701.0      3096.0       2904.0       2388.0  ...  0.063704  0.119155   \n",
       "9     2551.0      3096.0       2904.0       2388.0  ...  0.065853  0.121286   \n",
       "\n",
       "   S1Sn2.VV  S1Sn2.VH  S1Sn3.VV  S1Sn3.VH  S1Sn4.VV  S1Sn4.VH       Class  \\\n",
       "0  0.056008  0.620427  0.038737  0.292159  0.034488  0.454127  Built_area   \n",
       "1  0.056521  0.960369  0.036981  0.299749  0.032929  0.470674  Built_area   \n",
       "2  0.074617  0.178752  0.047758  0.106462  0.039125  0.150803  Built_area   \n",
       "3  0.056121  0.889728  0.036421  0.294085  0.033882  0.417073  Built_area   \n",
       "4  0.042416  0.449223  0.025203  0.125186  0.032452  0.125381  Built_area   \n",
       "5  0.080632  0.684181  0.097752  0.693160  0.078567  0.863824  Built_area   \n",
       "6  0.091202  0.818408  0.118514  0.810443  0.090654  0.936450  Built_area   \n",
       "7  0.060986  0.277246  0.045599  0.142492  0.045463  0.179687  Built_area   \n",
       "8  0.064706  0.203174  0.046573  0.140180  0.054829  0.194876  Built_area   \n",
       "9  0.065566  0.193616  0.046982  0.154834  0.057151  0.201063  Built_area   \n",
       "\n",
       "   Class_Ecoded  \n",
       "0             0  \n",
       "1             0  \n",
       "2             0  \n",
       "3             0  \n",
       "4             0  \n",
       "5             0  \n",
       "6             0  \n",
       "7             0  \n",
       "8             0  \n",
       "9             0  \n",
       "\n",
       "[10 rows x 73 columns]"
      ]
     },
     "execution_count": 24,
     "metadata": {},
     "output_type": "execute_result"
    }
   ],
   "source": [
    "df.head(10)"
   ]
  },
  {
   "cell_type": "markdown",
   "id": "5012c667-4d4a-4884-9e71-dd47ff1c78c2",
   "metadata": {},
   "source": [
    "## Feature Elimination using - Recursive feature elimination with cross-validation (RFECV)"
   ]
  },
  {
   "cell_type": "code",
   "execution_count": 26,
   "id": "5c258664",
   "metadata": {},
   "outputs": [],
   "source": [
    "import pandas as pd\n",
    "import matplotlib.pyplot as plt\n",
    "import numpy as np\n",
    "from sklearn.preprocessing import StandardScaler, OrdinalEncoder, LabelEncoder\n",
    "from sklearn.linear_model import LogisticRegression, SGDClassifier\n",
    "from sklearn.model_selection import StratifiedKFold, train_test_split, cross_validate\n",
    "from sklearn.feature_selection import RFECV\n",
    "from sklearn.svm import SVC\n",
    "from sklearn.naive_bayes import GaussianNB\n",
    "from sklearn.neighbors import KNeighborsClassifier\n",
    "from sklearn.tree import DecisionTreeClassifier\n",
    "from sklearn.ensemble import AdaBoostClassifier\n",
    "from sklearn.neural_network import MLPClassifier\n",
    "from sklearn.metrics import accuracy_score, plot_confusion_matrix\n",
    "import warnings\n",
    "warnings.filterwarnings(\"ignore\")\n",
    "%matplotlib inline\n",
    "random_state = 123"
   ]
  },
  {
   "cell_type": "markdown",
   "id": "2e1e09c8",
   "metadata": {},
   "source": [
    "### RFECV with LogisticRegression"
   ]
  },
  {
   "cell_type": "code",
   "execution_count": 27,
   "id": "2c7fa92d",
   "metadata": {},
   "outputs": [
    {
     "data": {
      "text/html": [
       "<style>#sk-container-id-1 {color: black;background-color: white;}#sk-container-id-1 pre{padding: 0;}#sk-container-id-1 div.sk-toggleable {background-color: white;}#sk-container-id-1 label.sk-toggleable__label {cursor: pointer;display: block;width: 100%;margin-bottom: 0;padding: 0.3em;box-sizing: border-box;text-align: center;}#sk-container-id-1 label.sk-toggleable__label-arrow:before {content: \"▸\";float: left;margin-right: 0.25em;color: #696969;}#sk-container-id-1 label.sk-toggleable__label-arrow:hover:before {color: black;}#sk-container-id-1 div.sk-estimator:hover label.sk-toggleable__label-arrow:before {color: black;}#sk-container-id-1 div.sk-toggleable__content {max-height: 0;max-width: 0;overflow: hidden;text-align: left;background-color: #f0f8ff;}#sk-container-id-1 div.sk-toggleable__content pre {margin: 0.2em;color: black;border-radius: 0.25em;background-color: #f0f8ff;}#sk-container-id-1 input.sk-toggleable__control:checked~div.sk-toggleable__content {max-height: 200px;max-width: 100%;overflow: auto;}#sk-container-id-1 input.sk-toggleable__control:checked~label.sk-toggleable__label-arrow:before {content: \"▾\";}#sk-container-id-1 div.sk-estimator input.sk-toggleable__control:checked~label.sk-toggleable__label {background-color: #d4ebff;}#sk-container-id-1 div.sk-label input.sk-toggleable__control:checked~label.sk-toggleable__label {background-color: #d4ebff;}#sk-container-id-1 input.sk-hidden--visually {border: 0;clip: rect(1px 1px 1px 1px);clip: rect(1px, 1px, 1px, 1px);height: 1px;margin: -1px;overflow: hidden;padding: 0;position: absolute;width: 1px;}#sk-container-id-1 div.sk-estimator {font-family: monospace;background-color: #f0f8ff;border: 1px dotted black;border-radius: 0.25em;box-sizing: border-box;margin-bottom: 0.5em;}#sk-container-id-1 div.sk-estimator:hover {background-color: #d4ebff;}#sk-container-id-1 div.sk-parallel-item::after {content: \"\";width: 100%;border-bottom: 1px solid gray;flex-grow: 1;}#sk-container-id-1 div.sk-label:hover label.sk-toggleable__label {background-color: #d4ebff;}#sk-container-id-1 div.sk-serial::before {content: \"\";position: absolute;border-left: 1px solid gray;box-sizing: border-box;top: 0;bottom: 0;left: 50%;z-index: 0;}#sk-container-id-1 div.sk-serial {display: flex;flex-direction: column;align-items: center;background-color: white;padding-right: 0.2em;padding-left: 0.2em;position: relative;}#sk-container-id-1 div.sk-item {position: relative;z-index: 1;}#sk-container-id-1 div.sk-parallel {display: flex;align-items: stretch;justify-content: center;background-color: white;position: relative;}#sk-container-id-1 div.sk-item::before, #sk-container-id-1 div.sk-parallel-item::before {content: \"\";position: absolute;border-left: 1px solid gray;box-sizing: border-box;top: 0;bottom: 0;left: 50%;z-index: -1;}#sk-container-id-1 div.sk-parallel-item {display: flex;flex-direction: column;z-index: 1;position: relative;background-color: white;}#sk-container-id-1 div.sk-parallel-item:first-child::after {align-self: flex-end;width: 50%;}#sk-container-id-1 div.sk-parallel-item:last-child::after {align-self: flex-start;width: 50%;}#sk-container-id-1 div.sk-parallel-item:only-child::after {width: 0;}#sk-container-id-1 div.sk-dashed-wrapped {border: 1px dashed gray;margin: 0 0.4em 0.5em 0.4em;box-sizing: border-box;padding-bottom: 0.4em;background-color: white;}#sk-container-id-1 div.sk-label label {font-family: monospace;font-weight: bold;display: inline-block;line-height: 1.2em;}#sk-container-id-1 div.sk-label-container {text-align: center;}#sk-container-id-1 div.sk-container {/* jupyter's `normalize.less` sets `[hidden] { display: none; }` but bootstrap.min.css set `[hidden] { display: none !important; }` so we also need the `!important` here to be able to override the default hidden behavior on the sphinx rendered scikit-learn.org. See: https://github.com/scikit-learn/scikit-learn/issues/21755 */display: inline-block !important;position: relative;}#sk-container-id-1 div.sk-text-repr-fallback {display: none;}</style><div id=\"sk-container-id-1\" class=\"sk-top-container\"><div class=\"sk-text-repr-fallback\"><pre>RFECV(cv=StratifiedKFold(n_splits=5, random_state=123, shuffle=True),\n",
       "      estimator=LogisticRegression(random_state=123), scoring=&#x27;accuracy&#x27;)</pre><b>In a Jupyter environment, please rerun this cell to show the HTML representation or trust the notebook. <br />On GitHub, the HTML representation is unable to render, please try loading this page with nbviewer.org.</b></div><div class=\"sk-container\" hidden><div class=\"sk-item sk-dashed-wrapped\"><div class=\"sk-label-container\"><div class=\"sk-label sk-toggleable\"><input class=\"sk-toggleable__control sk-hidden--visually\" id=\"sk-estimator-id-1\" type=\"checkbox\" ><label for=\"sk-estimator-id-1\" class=\"sk-toggleable__label sk-toggleable__label-arrow\">RFECV</label><div class=\"sk-toggleable__content\"><pre>RFECV(cv=StratifiedKFold(n_splits=5, random_state=123, shuffle=True),\n",
       "      estimator=LogisticRegression(random_state=123), scoring=&#x27;accuracy&#x27;)</pre></div></div></div><div class=\"sk-parallel\"><div class=\"sk-parallel-item\"><div class=\"sk-item\"><div class=\"sk-label-container\"><div class=\"sk-label sk-toggleable\"><input class=\"sk-toggleable__control sk-hidden--visually\" id=\"sk-estimator-id-2\" type=\"checkbox\" ><label for=\"sk-estimator-id-2\" class=\"sk-toggleable__label sk-toggleable__label-arrow\">estimator: LogisticRegression</label><div class=\"sk-toggleable__content\"><pre>LogisticRegression(random_state=123)</pre></div></div></div><div class=\"sk-serial\"><div class=\"sk-item\"><div class=\"sk-estimator sk-toggleable\"><input class=\"sk-toggleable__control sk-hidden--visually\" id=\"sk-estimator-id-3\" type=\"checkbox\" ><label for=\"sk-estimator-id-3\" class=\"sk-toggleable__label sk-toggleable__label-arrow\">LogisticRegression</label><div class=\"sk-toggleable__content\"><pre>LogisticRegression(random_state=123)</pre></div></div></div></div></div></div></div></div></div></div>"
      ],
      "text/plain": [
       "RFECV(cv=StratifiedKFold(n_splits=5, random_state=123, shuffle=True),\n",
       "      estimator=LogisticRegression(random_state=123), scoring='accuracy')"
      ]
     },
     "execution_count": 27,
     "metadata": {},
     "output_type": "execute_result"
    }
   ],
   "source": [
    "estimator = LogisticRegression(random_state=random_state)\n",
    "rfecv = RFECV(estimator=estimator, cv=StratifiedKFold(5, random_state=random_state, shuffle=True), scoring=\"accuracy\")\n",
    "rfecv.fit(X_train, y_train)"
   ]
  },
  {
   "cell_type": "code",
   "execution_count": 28,
   "id": "280f9171",
   "metadata": {},
   "outputs": [
    {
     "data": {
      "image/png": "[encoded data removed]",
      "text/plain": [
       "<Figure size 576x432 with 1 Axes>"
      ]
     },
     "metadata": {
      "needs_background": "light"
     },
     "output_type": "display_data"
    },
    {
     "name": "stdout",
     "output_type": "stream",
     "text": [
      "The optimal number of features: 63\n"
     ]
    }
   ],
   "source": [
    "plt.figure(figsize=(8, 6))\n",
    "plt.plot(range(1, len(rfecv.grid_scores_)+1), rfecv.grid_scores_)\n",
    "plt.grid()\n",
    "plt.xticks(range(1, X_train.shape[1]+1))\n",
    "plt.xlabel(\"Number of Selected Features\")\n",
    "plt.ylabel(\"CV Score\")\n",
    "plt.title(\"Recursive Feature Elimination (RFE)\")\n",
    "plt.show()\n",
    "\n",
    "print(\"The optimal number of features: {}\".format(rfecv.n_features_))"
   ]
  },
  {
   "cell_type": "code",
   "execution_count": 30,
   "id": "1f59de76",
   "metadata": {},
   "outputs": [
    {
     "data": {
      "text/plain": [
       "(8788, 71)"
      ]
     },
     "execution_count": 30,
     "metadata": {},
     "output_type": "execute_result"
    }
   ],
   "source": [
    "X_train.shape"
   ]
  },
  {
   "cell_type": "code",
   "execution_count": 31,
   "id": "5d19ade2",
   "metadata": {},
   "outputs": [],
   "source": [
    "XX = df.iloc[:, 0:71]"
   ]
  },
  {
   "cell_type": "code",
   "execution_count": 34,
   "id": "c85dd0d8",
   "metadata": {},
   "outputs": [
    {
     "name": "stdout",
     "output_type": "stream",
     "text": [
      "\"X_rfe\" column list: ['S2Sn1.Blue', 'S2Sn1.Green', 'S2Sn1.Red', 'S2Sn1.RE1', 'S2Sn1.RE2', 'S2Sn1.RE3', 'S2Sn1.NIR', 'S2Sn1.NNIR', 'S2Sn1.SWIR3', 'S2Sn1.SWIR4', 'S2Sn2.Blue', 'S2Sn2.Green', 'S2Sn2.Red', 'S2Sn2.RE1', 'S2Sn2.RE2', 'S2Sn2.RE3', 'S2Sn2.NIR', 'S2Sn2.NNIR', 'S2Sn2.SWIR3', 'S2Sn2.SWIR4', 'S2Sn3.Blue', 'S2Sn3.Green', 'S2Sn3.Red', 'S2Sn3.RE1', 'S2Sn3.RE2', 'S2Sn3.RE3', 'S2Sn3.NIR', 'S2Sn3.NNIR', 'S2Sn3.SWIR3', 'S2Sn3.SWIR4', 'S2Sn4.Blue', 'S2Sn4.Green', 'S2Sn4.Red', 'S2Sn4.RE2', 'S2Sn4.RE3', 'S2Sn4.NIR', 'S2Sn4.NNIR', 'S2Sn4.SWIR3', 'S2Sn4.SWIR4', 'EVI2', 'NDWI', 'MSAVI', 'SAVI', 'ARVI2', 'Onset_Value', 'Onset_Time', 'Max_Value', ' Offset_value', 'Offset_time', 'BeforeMaxT', 'AfterMaxT', 'GreenUpSlope', 'BrownDownSlope', 'TINDVI', 'TINDVIAfterMax', 'TINDVIAsymmetry', 'S1Sn1.VV', 'S1Sn1.VH', 'S1Sn2.VV', 'S1Sn2.VH', 'S1Sn3.VV', 'S1Sn3.VH', 'S1Sn4.VH']\n"
     ]
    }
   ],
   "source": [
    "X_rfe = XX.iloc[:, rfecv.support_]\n",
    "#print(\"\\\"X\\\" dimension: {}\".format(X_train.shape))\n",
    "#print(\"\\\"X\\\" column list:\", df.iloc[:, 0:71].columns.tolist())\n",
    "#print(\"\\\"X_rfe\\\" dimension: {}\".format(X_rfe.shape))\n",
    "print(\"\\\"X_rfe\\\" column list:\", X_rfe.columns.tolist())"
   ]
  },
  {
   "cell_type": "code",
   "execution_count": 35,
   "id": "7cb2e6c4",
   "metadata": {},
   "outputs": [
    {
     "data": {
      "text/plain": [
       "63"
      ]
     },
     "execution_count": 35,
     "metadata": {},
     "output_type": "execute_result"
    }
   ],
   "source": [
    "len(X_rfe.columns.tolist())"
   ]
  },
  {
   "cell_type": "markdown",
   "id": "a52f0520",
   "metadata": {},
   "source": [
    "['S2Sn1.Blue', 'S2Sn1.Green', 'S2Sn1.Red', 'S2Sn1.RE1', 'S2Sn1.RE2', 'S2Sn1.RE3', 'S2Sn1.NIR', 'S2Sn1.NNIR', 'S2Sn1.SWIR3', 'S2Sn1.SWIR4', 'S2Sn2.Blue', 'S2Sn2.Green', 'S2Sn2.Red', 'S2Sn2.RE1', 'S2Sn2.RE2', 'S2Sn2.RE3', 'S2Sn2.NIR', 'S2Sn2.NNIR', 'S2Sn2.SWIR3', 'S2Sn2.SWIR4', 'S2Sn3.Blue', 'S2Sn3.Green', 'S2Sn3.Red', 'S2Sn3.RE1', 'S2Sn3.RE2', 'S2Sn3.RE3', 'S2Sn3.NIR', 'S2Sn3.NNIR', 'S2Sn3.SWIR3', 'S2Sn3.SWIR4', 'S2Sn4.Blue', 'S2Sn4.Green', 'S2Sn4.Red', 'S2Sn4.RE2', 'S2Sn4.RE3', 'S2Sn4.NIR', 'S2Sn4.NNIR', 'S2Sn4.SWIR3', 'S2Sn4.SWIR4', 'EVI2', 'NDWI', 'MSAVI', 'SAVI', 'ARVI2', 'Onset_Value', 'Onset_Time', 'Max_Value', ' Offset_value', 'Offset_time', 'BeforeMaxT', 'AfterMaxT', 'GreenUpSlope', 'TINDVI', 'TINDVIAfterMax', 'TINDVIAsymmetry', 'S1Sn1.VV', 'S1Sn1.VH', 'S1Sn2.VV', 'S1Sn2.VH', 'S1Sn3.VV', 'S1Sn3.VH', 'S1Sn4.VH']"
   ]
  },
  {
   "cell_type": "code",
   "execution_count": null,
   "id": "c9a4d426",
   "metadata": {},
   "outputs": [],
   "source": []
  },
  {
   "cell_type": "code",
   "execution_count": null,
   "id": "79f36412",
   "metadata": {},
   "outputs": [],
   "source": [
    "from sklearn.datasets import make_friedman1\n",
    "from sklearn.feature_selection import RFE\n",
    "from sklearn.svm import SVR\n",
    "X, y = make_friedman1(n_samples=50, n_features=10, random_state=0)\n",
    "estimator = SVR(kernel=\"linear\")\n",
    "selector = RFE(estimator, step=1, n_features_to_select=1)\n",
    "selector = selector.fit(X, y)\n",
    "selector.ranking_"
   ]
  },
  {
   "cell_type": "code",
   "execution_count": null,
   "id": "eaa94616",
   "metadata": {},
   "outputs": [],
   "source": [
    "X.shape"
   ]
  },
  {
   "cell_type": "markdown",
   "id": "e80cc9bf",
   "metadata": {},
   "source": [
    "### RFECV with DecisionTreeClassifier"
   ]
  },
  {
   "cell_type": "code",
   "execution_count": null,
   "id": "8f61e0fa",
   "metadata": {},
   "outputs": [],
   "source": [
    "estimator = DecisionTreeClassifier(random_state=random_state)\n",
    "rfecv = RFECV(estimator=estimator, min_features_to_select = 1, step=1, cv=StratifiedKFold(5, random_state=random_state, shuffle=True), scoring=\"accuracy\")\n",
    "rfecv.fit(X_train, y_train)"
   ]
  },
  {
   "cell_type": "code",
   "execution_count": null,
   "id": "0007c11a",
   "metadata": {},
   "outputs": [],
   "source": [
    "plt.figure(figsize=(8, 6))\n",
    "plt.plot(range(1, len(rfecv.grid_scores_)+1), rfecv.grid_scores_)\n",
    "plt.grid()\n",
    "plt.xticks(range(1, X_train.shape[1]+1))\n",
    "plt.xlabel(\"Number of Selected Features\")\n",
    "plt.ylabel(\"CV Score\")\n",
    "plt.title(\"Recursive Feature Elimination (RFE)\")\n",
    "plt.show()\n",
    "\n",
    "print(\"The optimal number of features: {}\".format(rfecv.n_features_))"
   ]
  },
  {
   "cell_type": "code",
   "execution_count": null,
   "id": "216af109",
   "metadata": {},
   "outputs": [],
   "source": [
    "X_rfe = XX.iloc[:, rfecv.support_]\n",
    "print(\"\\\"X\\\" dimension: {}\".format(XX.shape))\n",
    "print(\"\\\"X\\\" column list:\", XX.columns.tolist())\n",
    "print(\"\\\"X_rfe\\\" dimension: {}\".format(X_rfe.shape))\n",
    "print(\"\\\"X_rfe\\\" column list:\", X_rfe.columns.tolist())"
   ]
  },
  {
   "cell_type": "markdown",
   "id": "11543fe7",
   "metadata": {},
   "source": [
    "['S2Sn1.Green', 'S2Sn1.Red', 'S2Sn1.RE1', 'S2Sn1.RE2', 'S2Sn1.SWIR4', 'S2Sn2.Green', 'S2Sn2.NNIR', 'S2Sn2.SWIR3', 'S2Sn2.SWIR4', 'S2Sn3.Blue', 'S2Sn3.RE1', 'S2Sn3.RE2', 'S2Sn3.NNIR', 'S2Sn3.SWIR3', 'S2Sn4.Blue', 'S2Sn4.RE1', 'S2Sn4.NNIR', 'S2Sn4.SWIR4', 'NDWI', 'SAVI', ' Offset_value', 'TINDVI', 'S1Sn1.VV', 'S1Sn1.VH', 'S1Sn3.VH']"
   ]
  },
  {
   "cell_type": "markdown",
   "id": "a1fee7e1",
   "metadata": {},
   "source": [
    "### RFECV with RandomForestClassifier()"
   ]
  },
  {
   "cell_type": "code",
   "execution_count": null,
   "id": "be466795",
   "metadata": {},
   "outputs": [],
   "source": [
    "estimator = RandomForestClassifier(random_state=random_state)\n",
    "rfecv = RFECV(estimator=estimator, cv=StratifiedKFold(5, random_state=random_state, shuffle=True), scoring=\"accuracy\")\n",
    "rfecv.fit(X_train, y_train)"
   ]
  },
  {
   "cell_type": "code",
   "execution_count": null,
   "id": "3306f336",
   "metadata": {},
   "outputs": [],
   "source": [
    "plt.figure(figsize=(8, 6))\n",
    "plt.plot(range(1, len(rfecv.grid_scores_)+1), rfecv.grid_scores_)\n",
    "plt.grid()\n",
    "plt.xticks(range(1, X_train.shape[1]+1))\n",
    "plt.xlabel(\"Number of Selected Features\")\n",
    "plt.ylabel(\"CV Score\")\n",
    "plt.title(\"Recursive Feature Elimination (RFE)\")\n",
    "plt.show()\n",
    "\n",
    "print(\"The optimal number of features: {}\".format(rfecv.n_features_))"
   ]
  },
  {
   "cell_type": "code",
   "execution_count": null,
   "id": "62749ffc",
   "metadata": {},
   "outputs": [],
   "source": [
    "X_rfe = XX.iloc[:, rfecv.support_]\n",
    "print(\"\\\"X\\\" dimension: {}\".format(XX.shape))\n",
    "print(\"\\\"X\\\" column list:\", XX.columns.tolist())\n",
    "print(\"\\\"X_rfe\\\" dimension: {}\".format(X_rfe.shape))\n",
    "print(\"\\\"X_rfe\\\" column list:\", X_rfe.columns.tolist())"
   ]
  },
  {
   "cell_type": "markdown",
   "id": "1534e9d5",
   "metadata": {},
   "source": [
    "['S2Sn1.Blue', 'S2Sn1.Green', 'S2Sn1.Red', 'S2Sn1.RE1', 'S2Sn1.RE2', 'S2Sn1.RE3', 'S2Sn1.NNIR', 'S2Sn1.SWIR3', 'S2Sn1.SWIR4', 'S2Sn2.Green', 'S2Sn2.RE3', 'S2Sn2.NIR', 'S2Sn2.NNIR', 'S2Sn2.SWIR3', 'S2Sn2.SWIR4', 'S2Sn3.Blue', 'S2Sn3.Red', 'S2Sn3.RE1', 'S2Sn3.RE2', 'S2Sn3.NNIR', 'S2Sn3.SWIR3', 'S2Sn3.SWIR4', 'S2Sn4.Blue', 'S2Sn4.Green', 'S2Sn4.Red', 'S2Sn4.RE3', 'S2Sn4.NNIR', 'S2Sn4.SWIR3', 'S2Sn4.SWIR4', 'NDVI', 'EVI2', 'NDWI', 'MSAVI', 'SAVI', 'GNDVI', ' Offset_value', 'TINDVI', ' TINDVIBeforeMax', 'TINDVIAfterMax', 'S1Sn1.VV', 'S1Sn1.VH', 'S1Sn2.VH', 'S1Sn3.VV', 'S1Sn3.VH', 'S1Sn4.VV', 'S1Sn4.VH']"
   ]
  }
 ],
 "metadata": {
  "kernelspec": {
   "display_name": "Python 3 (ipykernel)",
   "language": "python",
   "name": "python3"
  },
  "language_info": {
   "codemirror_mode": {
    "name": "ipython",
    "version": 3
   },
   "file_extension": ".py",
   "mimetype": "text/x-python",
   "name": "python",
   "nbconvert_exporter": "python",
   "pygments_lexer": "ipython3",
   "version": "3.9.12"
  }
 },
 "nbformat": 4,
 "nbformat_minor": 5
}
