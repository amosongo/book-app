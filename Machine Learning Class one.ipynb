{
 "cells": [
  {
   "cell_type": "code",
   "execution_count": 1,
   "id": "e80de71d",
   "metadata": {},
   "outputs": [],
   "source": [
    "#conda install scikit-learn"
   ]
  },
  {
   "cell_type": "code",
   "execution_count": null,
   "id": "68bc376d",
   "metadata": {},
   "outputs": [],
   "source": []
  },
  {
   "cell_type": "code",
   "execution_count": 2,
   "id": "49818063",
   "metadata": {
    "scrolled": true
   },
   "outputs": [],
   "source": [
    "#import sys\n",
    "#!{sys.executable} -m pip install SciPy"
   ]
  },
  {
   "cell_type": "code",
   "execution_count": 3,
   "id": "56c066b7",
   "metadata": {},
   "outputs": [],
   "source": [
    "#import sys\n",
    "#!{sys.executable} -m pip install Mglearn"
   ]
  },
  {
   "cell_type": "code",
   "execution_count": 4,
   "id": "8f6980f8",
   "metadata": {},
   "outputs": [],
   "source": [
    "#import warnings\n",
    "#warnings.filterwarnings('ignore')"
   ]
  },
  {
   "cell_type": "code",
   "execution_count": 5,
   "id": "423bed85",
   "metadata": {},
   "outputs": [],
   "source": [
    "#import sys\n",
    "#!{sys.executable} -m pip install scikit-learn"
   ]
  },
  {
   "cell_type": "code",
   "execution_count": 2,
   "id": "0846532e",
   "metadata": {},
   "outputs": [
    {
     "name": "stdout",
     "output_type": "stream",
     "text": [
      "    Age  Number of cars owned owns house  no of children marital status  \\\n",
      "0     6                     1          y               2              w   \n",
      "1    52                     2          y               3              m   \n",
      "2    22                     0          n               0              m   \n",
      "3    25                     1          n               1              s   \n",
      "4    44                     0          n               2              d   \n",
      "5    39                     1          y               2              m   \n",
      "6    26                     1          n               2              s   \n",
      "7    40                     3          y               1              m   \n",
      "8    53                     2          y               2              d   \n",
      "9    64                     2          y               3              d   \n",
      "10   58                     2          y               2              m   \n",
      "11   33                     1          n               1              s   \n",
      "\n",
      "   owns a dog bought  boat  \n",
      "0           n            y  \n",
      "1           n            y  \n",
      "2           y            n  \n",
      "3           n            n  \n",
      "4           y            n  \n",
      "5           y            n  \n",
      "6           n            n  \n",
      "7           y            n  \n",
      "8           n            y  \n",
      "9           n            n  \n",
      "10          y            y  \n",
      "11          n            n  \n"
     ]
    }
   ],
   "source": [
    "import pandas as pd\n",
    "df = pd.read_csv(r'C:\\Users\\ARNOLD\\Downloads\\Jenga school\\Pythondata.csv')\n",
    "print(df)"
   ]
  },
  {
   "cell_type": "code",
   "execution_count": 6,
   "id": "afdf8cfa",
   "metadata": {},
   "outputs": [],
   "source": [
    "#import sys\n",
    "#!{sys.executable} -m pip install Matplotlib"
   ]
  },
  {
   "cell_type": "code",
   "execution_count": 13,
   "id": "0bc21d1d",
   "metadata": {},
   "outputs": [],
   "source": [
    "import numpy as np\n",
    "import pandas as pd\n",
    "import matplotlib.pyplot as plt\n",
    "import seaborn as sns\n",
    "import scipy as sp\n",
    "import sklearn \n",
    "import mglearn"
   ]
  },
  {
   "cell_type": "markdown",
   "id": "ebf34ee8",
   "metadata": {},
   "source": [
    "# KNN classification"
   ]
  },
  {
   "cell_type": "code",
   "execution_count": 66,
   "id": "06238a2d",
   "metadata": {},
   "outputs": [
    {
     "data": {
      "text/plain": [
       "Text(0, 0.5, 'Feature 2')"
      ]
     },
     "execution_count": 66,
     "metadata": {},
     "output_type": "execute_result"
    },
    {
     "data": {
      "image/png": "[encoded data removed]",
      "text/plain": [
       "<Figure size 640x480 with 1 Axes>"
      ]
     },
     "metadata": {},
     "output_type": "display_data"
    }
   ],
   "source": [
    "X, y = mglearn.datasets.make_forge()\n",
    "mglearn.discrete_scatter(X[:,0],X[:,1],y)\n",
    "plt.legend(['Class 0','Class 1'], loc = 4)\n",
    "plt.xlabel('Feature 1')\n",
    "plt.ylabel('Feature 2')"
   ]
  },
  {
   "cell_type": "code",
   "execution_count": 21,
   "id": "644c2801",
   "metadata": {},
   "outputs": [
    {
     "name": "stdout",
     "output_type": "stream",
     "text": [
      "Test set preictions [1 0 1 0 1 0 0]\n",
      "Test set acuracy 0.8571428571428571\n"
     ]
    }
   ],
   "source": [
    "from sklearn.model_selection import train_test_split\n",
    "X_train, X_test, y_train, y_test = train_test_split(X,y, random_state = 0)\n",
    "from sklearn.neighbors import KNeighborsClassifier\n",
    "elc = KNeighborsClassifier(n_neighbors = 1)\n",
    "elc.fit(X_train, y_train)\n",
    "print(\"Test set preictions\", elc.predict(X_test))\n",
    "print(\"Test set acuracy\", elc.score(X_test, y_test))"
   ]
  },
  {
   "cell_type": "code",
   "execution_count": null,
   "id": "3f1e5116",
   "metadata": {},
   "outputs": [],
   "source": []
  },
  {
   "cell_type": "code",
   "execution_count": 6,
   "id": "b902cb29",
   "metadata": {},
   "outputs": [
    {
     "data": {
      "text/plain": [
       "<matplotlib.legend.Legend at 0x1c2cf58c070>"
      ]
     },
     "execution_count": 6,
     "metadata": {},
     "output_type": "execute_result"
    },
    {
     "data": {
      "image/png": "[encoded data removed]",
      "text/plain": [
       "<Figure size 1000x300 with 3 Axes>"
      ]
     },
     "metadata": {},
     "output_type": "display_data"
    }
   ],
   "source": [
    "fig, axes = plt.subplots(1,3, figsize = (10,3))\n",
    "for n_neighbors, ax in zip([1,3,9], axes):\n",
    "    elc = KNeighborsClassifier(n_neighbors = n_neighbors).fit(X,y)\n",
    "    # decision \n",
    "    mglearn.plots.plot_2d_separator(elc, X, fill = True, eps = 0.5, ax = ax, alpha = 0.4)\n",
    "    mglearn.discrete_scatter (X[:,0],X[:,1],y, ax = ax)\n",
    "    #ax.set_title('Neighbors',n_neighbors)\n",
    "    ax.set_xlabel('Feature 0')\n",
    "    ax.set_ylabel('Feature 1')\n",
    "    #ax.set_legend(loc = 4)\n",
    "axes[0].legend(loc = 4)"
   ]
  },
  {
   "cell_type": "code",
   "execution_count": 15,
   "id": "8bf0a398",
   "metadata": {},
   "outputs": [
    {
     "name": "stdout",
     "output_type": "stream",
     "text": [
      "Keys of Iris dataset dict_keys(['data', 'target', 'frame', 'target_names', 'DESCR', 'feature_names', 'filename', 'data_module'])\n"
     ]
    }
   ],
   "source": [
    "from sklearn.datasets import load_iris\n",
    "iris_dataset = load_iris() # datasets in sklearn are stored as a bunch objects stored as dictionaries\n",
    "print('Keys of Iris dataset', iris_dataset.keys())"
   ]
  },
  {
   "cell_type": "code",
   "execution_count": 8,
   "id": "de1858ac",
   "metadata": {},
   "outputs": [
    {
     "name": "stdout",
     "output_type": "stream",
     "text": [
      "Iris ['setosa' 'versicolor' 'virginica']\n"
     ]
    }
   ],
   "source": [
    "print('Iris', iris_dataset['target_names']) #finding more about features in a dataset"
   ]
  },
  {
   "cell_type": "code",
   "execution_count": 9,
   "id": "42ddbce5",
   "metadata": {
    "scrolled": true
   },
   "outputs": [
    {
     "name": "stdout",
     "output_type": "stream",
     "text": [
      "[[5.1 3.5 1.4 0.2]\n",
      " [4.9 3.  1.4 0.2]\n",
      " [4.7 3.2 1.3 0.2]\n",
      " [4.6 3.1 1.5 0.2]\n",
      " [5.  3.6 1.4 0.2]]\n"
     ]
    }
   ],
   "source": [
    "print(iris_dataset['data'][:5]) #observing first five rows in the data"
   ]
  },
  {
   "cell_type": "code",
   "execution_count": 22,
   "id": "1146e7af",
   "metadata": {
    "scrolled": true
   },
   "outputs": [
    {
     "name": "stdout",
     "output_type": "stream",
     "text": [
      "Test set preictions [2 1 0 2 0 2 0 1 1 1 2 1 1 1 1 0 1 1 0 0 2 1 0 0 2 0 0 1 1 0 2 1 0 2 2 1 0\n",
      " 2]\n",
      "Test set acuracy 0.9736842105263158\n"
     ]
    }
   ],
   "source": [
    "from sklearn.model_selection import train_test_split\n",
    "X_train, X_test, y_train, y_test = train_test_split(iris_dataset['data'],iris_dataset['target'], random_state = 0)\n",
    "\n",
    "from sklearn.neighbors import KNeighborsClassifier\n",
    "elc = KNeighborsClassifier(n_neighbors = 1)\n",
    "elc.fit(X_train, y_train)\n",
    "print(\"Test set preictions\", elc.predict(X_test))\n",
    "print(\"Test set acuracy\", elc.score(X_test, y_test))"
   ]
  },
  {
   "cell_type": "code",
   "execution_count": 23,
   "id": "63b06002",
   "metadata": {},
   "outputs": [
    {
     "data": {
      "text/plain": [
       "<matplotlib.legend.Legend at 0x1c2cff64430>"
      ]
     },
     "execution_count": 23,
     "metadata": {},
     "output_type": "execute_result"
    },
    {
     "data": {
      "image/png": "[encoded data removed]",
      "text/plain": [
       "<Figure size 640x480 with 1 Axes>"
      ]
     },
     "metadata": {},
     "output_type": "display_data"
    }
   ],
   "source": [
    "from sklearn.datasets import load_breast_cancer\n",
    "\n",
    "cancer = load_breast_cancer()\n",
    "\n",
    "from sklearn.model_selection import train_test_split\n",
    "X_train, X_test, y_train, y_test = train_test_split(cancer['data'],cancer['target'], random_state = 2) # change random_state = 0, 1, 2 etc. and observe accuracy\n",
    "\n",
    "Training_accuracy = []\n",
    "Test_accuracy = []\n",
    "\n",
    "Neighbors = range(1,11)\n",
    "from sklearn.neighbors import KNeighborsClassifier\n",
    "\n",
    "for n_neighbors in Neighbors:\n",
    "    model = KNeighborsClassifier(n_neighbors = n_neighbors)\n",
    "    model.fit(X_train, y_train)\n",
    "    Training_accuracy.append(model.score(X_train, y_train))\n",
    "    Test_accuracy.append(model.score(X_test, y_test))\n",
    "\n",
    "plt.plot(Neighbors, Training_accuracy, label = 'Training_accuracy')\n",
    "plt.plot(Neighbors, Test_accuracy, label = 'Test_accuracy')\n",
    "plt.legend()"
   ]
  },
  {
   "cell_type": "code",
   "execution_count": 24,
   "id": "d419ba64",
   "metadata": {},
   "outputs": [
    {
     "name": "stdout",
     "output_type": "stream",
     "text": [
      "[-0.05396539  0.35686046  1.13671923 -1.89415682 -1.13881398 -1.63113382\n",
      "  0.35686046  0.91241374 -0.44680446 -1.13881398]\n",
      "0.8344172446249605\n"
     ]
    }
   ],
   "source": [
    "from sklearn.neighbors import KNeighborsRegressor\n",
    "\n",
    "X, y = mglearn.datasets.make_wave(n_samples = 40)\n",
    "X_train, X_test, y_train, y_test = train_test_split(X, y, random_state = 0)\n",
    "model = KNeighborsRegressor(n_neighbors = 3)\n",
    "model.fit(X_train, y_train)\n",
    "print(model.predict(X_test))\n",
    "print(model.score(X_test, y_test))"
   ]
  },
  {
   "cell_type": "markdown",
   "id": "b57cec5b",
   "metadata": {},
   "source": [
    "# Linear Models for regression\n",
    "\n",
    "    Linear regression model / Ordinary Least Sq.\n",
    "    Ridge regression\n",
    "    Lasso regression"
   ]
  },
  {
   "cell_type": "markdown",
   "id": "e5b88921",
   "metadata": {},
   "source": [
    "## Linear regression model / Ordinary Least Sq."
   ]
  },
  {
   "cell_type": "code",
   "execution_count": 26,
   "id": "1a7a9849",
   "metadata": {},
   "outputs": [
    {
     "name": "stdout",
     "output_type": "stream",
     "text": [
      "w [0.52424272]\n",
      "b -0.09394309015377249\n",
      "training accuracy 0.6883322630458479\n",
      "test accuracy 0.626150295776388\n"
     ]
    }
   ],
   "source": [
    "from sklearn.linear_model import LinearRegression\n",
    "\n",
    "X, y = mglearn.datasets.make_wave(n_samples = 40)\n",
    "X_train, X_test, y_train, y_test = train_test_split(X, y, random_state = 0)\n",
    "model = LinearRegression().fit(X_train, y_train)\n",
    "\n",
    "print('w', model.coef_)\n",
    "print('b', model.intercept_)\n",
    "print('training accuracy', model.score(X_train, y_train))\n",
    "print('test accuracy', model.score(X_test, y_test))"
   ]
  },
  {
   "cell_type": "code",
   "execution_count": 27,
   "id": "6378dd89",
   "metadata": {},
   "outputs": [
    {
     "name": "stdout",
     "output_type": "stream",
     "text": [
      ".. _boston_dataset:\n",
      "\n",
      "Boston house prices dataset\n",
      "---------------------------\n",
      "\n",
      "**Data Set Characteristics:**  \n",
      "\n",
      "    :Number of Instances: 506 \n",
      "\n",
      "    :Number of Attributes: 13 numeric/categorical predictive. Median Value (attribute 14) is usually the target.\n",
      "\n",
      "    :Attribute Information (in order):\n",
      "        - CRIM     per capita crime rate by town\n",
      "        - ZN       proportion of residential land zoned for lots over 25,000 sq.ft.\n",
      "        - INDUS    proportion of non-retail business acres per town\n",
      "        - CHAS     Charles River dummy variable (= 1 if tract bounds river; 0 otherwise)\n",
      "        - NOX      nitric oxides concentration (parts per 10 million)\n",
      "        - RM       average number of rooms per dwelling\n",
      "        - AGE      proportion of owner-occupied units built prior to 1940\n",
      "        - DIS      weighted distances to five Boston employment centres\n",
      "        - RAD      index of accessibility to radial highways\n",
      "        - TAX      full-value property-tax rate per $10,000\n",
      "        - PTRATIO  pupil-teacher ratio by town\n",
      "        - B        1000(Bk - 0.63)^2 where Bk is the proportion of black people by town\n",
      "        - LSTAT    % lower status of the population\n",
      "        - MEDV     Median value of owner-occupied homes in $1000's\n",
      "\n",
      "    :Missing Attribute Values: None\n",
      "\n",
      "    :Creator: Harrison, D. and Rubinfeld, D.L.\n",
      "\n",
      "This is a copy of UCI ML housing dataset.\n",
      "https://archive.ics.uci.edu/ml/machine-learning-databases/housing/\n",
      "\n",
      "\n",
      "This dataset was taken from the StatLib library which is maintained at Carnegie Mellon University.\n",
      "\n",
      "The Boston house-price data of Harrison, D. and Rubinfeld, D.L. 'Hedonic\n",
      "prices and the demand for clean air', J. Environ. Economics & Management,\n",
      "vol.5, 81-102, 1978.   Used in Belsley, Kuh & Welsch, 'Regression diagnostics\n",
      "...', Wiley, 1980.   N.B. Various transformations are used in the table on\n",
      "pages 244-261 of the latter.\n",
      "\n",
      "The Boston house-price data has been used in many machine learning papers that address regression\n",
      "problems.   \n",
      "     \n",
      ".. topic:: References\n",
      "\n",
      "   - Belsley, Kuh & Welsch, 'Regression diagnostics: Identifying Influential Data and Sources of Collinearity', Wiley, 1980. 244-261.\n",
      "   - Quinlan,R. (1993). Combining Instance-Based and Model-Based Learning. In Proceedings on the Tenth International Conference of Machine Learning, 236-243, University of Massachusetts, Amherst. Morgan Kaufmann.\n",
      "\n"
     ]
    }
   ],
   "source": [
    "from sklearn.datasets import load_boston\n",
    "boston = load_boston()\n",
    "print(boston['DESCR'])"
   ]
  },
  {
   "cell_type": "code",
   "execution_count": 31,
   "id": "9b648daf",
   "metadata": {},
   "outputs": [
    {
     "name": "stdout",
     "output_type": "stream",
     "text": [
      "w [-4.12710947e+02 -5.22432068e+01 -1.31898815e+02 -1.20041365e+01\n",
      " -1.55107129e+01  2.87163342e+01  5.47040992e+01 -4.95346659e+01\n",
      "  2.65823927e+01  3.70620316e+01 -1.18281674e+01 -1.80581965e+01\n",
      " -1.95246830e+01  1.22025403e+01  2.98078144e+03  1.50084257e+03\n",
      "  1.14187325e+02 -1.69700520e+01  4.09613691e+01 -2.42636646e+01\n",
      "  5.76157466e+01  1.27812142e+03 -2.23986944e+03  2.22825472e+02\n",
      " -2.18201083e+00  4.29960320e+01 -1.33981515e+01 -1.93893485e+01\n",
      " -2.57541277e+00 -8.10130128e+01  9.66019367e+00  4.91423718e+00\n",
      " -8.12114800e-01 -7.64694179e+00  3.37837099e+01 -1.14464390e+01\n",
      "  6.85083979e+01 -1.73753604e+01  4.28128204e+01  1.13988209e+00\n",
      " -7.72696840e-01  5.68255921e+01  1.42875996e+01  5.39551110e+01\n",
      " -3.21709644e+01  1.92709675e+01 -1.38852338e+01  6.06343266e+01\n",
      " -1.23153942e+01 -1.20041365e+01 -1.77243899e+01 -3.39868183e+01\n",
      "  7.08999816e+00 -9.22538241e+00  1.71980268e+01 -1.27718431e+01\n",
      " -1.19727581e+01  5.73871915e+01 -1.75331865e+01  4.10103194e+00\n",
      "  2.93666477e+01 -1.76611772e+01  7.84049424e+01 -3.19098015e+01\n",
      "  4.81752461e+01 -3.95344813e+01  5.22959055e+00  2.19982410e+01\n",
      "  2.56483934e+01 -4.99982035e+01  2.91457545e+01  8.94267456e+00\n",
      " -7.16599297e+01 -2.28147862e+01  8.40660981e+00 -5.37905422e+00\n",
      "  1.20137322e+00 -5.20877186e+00  4.11452351e+01 -3.78250760e+01\n",
      " -2.67163851e+00 -2.55217108e+01 -3.33982030e+01  4.62272693e+01\n",
      " -2.41509169e+01 -1.77532970e+01 -1.39723701e+01 -2.35522208e+01\n",
      "  3.68353800e+01 -9.46890859e+01  1.44302810e+02 -1.51158659e+01\n",
      " -1.49513436e+01 -2.87729579e+01 -3.17673192e+01  2.49551594e+01\n",
      " -1.84384534e+01  3.65073948e+00  1.73101122e+00  3.53617137e+01\n",
      "  1.19553429e+01  6.77025947e-01  2.73452009e+00  3.03720012e+01]\n",
      "b 30.934563673640792\n",
      "training accuracy 0.9520519609032728\n",
      "test accuracy 0.6074721959665808\n"
     ]
    }
   ],
   "source": [
    "from sklearn.linear_model import LinearRegression\n",
    "\n",
    "X, y = mglearn.datasets.load_extended_boston()\n",
    "X_train, X_test, y_train, y_test = train_test_split(X, y, random_state = 0) # change random_state = 0, 1, 2 etc. and observe accuracy\n",
    "model = LinearRegression().fit(X_train, y_train)\n",
    "\n",
    "print('w', model.coef_)\n",
    "print('b', model.intercept_)\n",
    "print('training accuracy', model.score(X_train, y_train))\n",
    "print('test accuracy', model.score(X_test, y_test))"
   ]
  },
  {
   "cell_type": "markdown",
   "id": "b2856fa1",
   "metadata": {},
   "source": [
    "# Ridge regression"
   ]
  },
  {
   "cell_type": "code",
   "execution_count": 30,
   "id": "e172dbd9",
   "metadata": {},
   "outputs": [
    {
     "name": "stdout",
     "output_type": "stream",
     "text": [
      "training accuracy 0.885796658517094\n",
      "test accuracy 0.7527683481744752\n"
     ]
    }
   ],
   "source": [
    "from sklearn.linear_model import Ridge\n",
    "\n",
    "X, y = mglearn.datasets.load_extended_boston()\n",
    "X_train, X_test, y_train, y_test = train_test_split(X, y, random_state = 0) \n",
    "model = Ridge().fit(X_train, y_train)\n",
    "\n",
    "#print('w', model.coef_)\n",
    "#print('b', model.intercept_)\n",
    "print('training accuracy', model.score(X_train, y_train))\n",
    "print('test accuracy', model.score(X_test, y_test))"
   ]
  },
  {
   "cell_type": "code",
   "execution_count": 33,
   "id": "178896ee",
   "metadata": {},
   "outputs": [
    {
     "name": "stdout",
     "output_type": "stream",
     "text": [
      "training accuracy 0.7882787115369614\n",
      "test accuracy 0.6359411489177309\n"
     ]
    }
   ],
   "source": [
    "# regularization: keeps w as small as possible. \n",
    "# (selecting good features)Good regularization of overftting will be mininmized\n",
    "# alpha: this method uses eucledian distance to determine the mininmum slope. l2reqularization \n",
    "# manhattan distance/ l1regularization\n",
    "\n",
    "from sklearn.linear_model import Ridge\n",
    "\n",
    "X, y = mglearn.datasets.load_extended_boston()\n",
    "X_train, X_test, y_train, y_test = train_test_split(X, y, random_state = 0) \n",
    "model = Ridge(alpha = 10).fit(X_train, y_train)\n",
    "\n",
    "#print('w', model.coef_)\n",
    "#print('b', model.intercept_)\n",
    "print('training accuracy', model.score(X_train, y_train))\n",
    "print('test accuracy', model.score(X_test, y_test))"
   ]
  },
  {
   "cell_type": "code",
   "execution_count": 34,
   "id": "0acb350d",
   "metadata": {},
   "outputs": [
    {
     "name": "stdout",
     "output_type": "stream",
     "text": [
      "training accuracy 0.9282273685001982\n",
      "test accuracy 0.7722067936479957\n"
     ]
    }
   ],
   "source": [
    "from sklearn.linear_model import Ridge\n",
    "\n",
    "X, y = mglearn.datasets.load_extended_boston()\n",
    "X_train, X_test, y_train, y_test = train_test_split(X, y, random_state = 0) \n",
    "model = Ridge(alpha = 0.1).fit(X_train, y_train)# chnging the alpha value helps in regularization\n",
    "\n",
    "#print('w', model.coef_)\n",
    "#print('b', model.intercept_)\n",
    "print('training accuracy', model.score(X_train, y_train))\n",
    "print('test accuracy', model.score(X_test, y_test))"
   ]
  },
  {
   "cell_type": "code",
   "execution_count": 38,
   "id": "b8a668b3",
   "metadata": {},
   "outputs": [],
   "source": [
    "# investigating the difference in using different alpha levels\n",
    "\n",
    "Ridge_1 = Ridge().fit(X_train, y_train)\n",
    "Ridge_10 = Ridge(alpha = 10).fit(X_train, y_train)\n",
    "Ridge_01 = Ridge(alpha = 0.1).fit(X_train, y_train)\n",
    "Linear_T = LinearRegression().fit(X_train, y_train)"
   ]
  },
  {
   "cell_type": "code",
   "execution_count": 71,
   "id": "0b7e1b15",
   "metadata": {
    "scrolled": true
   },
   "outputs": [
    {
     "data": {
      "image/png": "[encoded data removed]",
      "text/plain": [
       "<Figure size 640x480 with 1 Axes>"
      ]
     },
     "metadata": {},
     "output_type": "display_data"
    }
   ],
   "source": [
    "plt.plot(Ridge_1.coef_,'s', label = 'Ridge, alpha = 1')\n",
    "plt.plot(Ridge_10.coef_,'^', label = 'Ridge, alpha = 10')\n",
    "plt.plot(Ridge_01.coef_,'v', label = 'Ridge, alpha = 0.1')\n",
    "plt.plot(Linear_T.coef_,'o', label = 'Linear')\n",
    "plt.legend()\n",
    "plt.show()"
   ]
  },
  {
   "cell_type": "markdown",
   "id": "e701dda5",
   "metadata": {},
   "source": [
    "# Lasso regression"
   ]
  },
  {
   "cell_type": "code",
   "execution_count": 43,
   "id": "e2002bce",
   "metadata": {},
   "outputs": [
    {
     "name": "stdout",
     "output_type": "stream",
     "text": [
      "training accuracy 0.29323768991114607\n",
      "test accuracy 0.20937503255272294\n",
      "Number of features:  4\n"
     ]
    }
   ],
   "source": [
    "from sklearn.linear_model import Lasso\n",
    "\n",
    "X, y = mglearn.datasets.load_extended_boston()\n",
    "X_train, X_test, y_train, y_test = train_test_split(X, y, random_state = 0) # change random_state = 0, 1, 2 etc. and observe accuracy\n",
    "model = Lasso().fit(X_train, y_train)\n",
    "\n",
    "#print('w', model.coef_)\n",
    "#print('b', model.intercept_)\n",
    "print('training accuracy', model.score(X_train, y_train))\n",
    "print('test accuracy', model.score(X_test, y_test))\n",
    "print('Number of features: ', np.sum(model.coef_ != 0))"
   ]
  },
  {
   "cell_type": "code",
   "execution_count": 46,
   "id": "ceb291ed",
   "metadata": {},
   "outputs": [
    {
     "name": "stdout",
     "output_type": "stream",
     "text": [
      "training accuracy 0.9420931515237064\n",
      "test accuracy 0.697654139166364\n",
      "Number of features:  100\n"
     ]
    }
   ],
   "source": [
    "from sklearn.linear_model import Lasso\n",
    "\n",
    "X, y = mglearn.datasets.load_extended_boston()\n",
    "X_train, X_test, y_train, y_test = train_test_split(X, y, random_state = 0) # change random_state = 0, 1, 2 etc. and observe accuracy\n",
    "model = Lasso(alpha = 0.0001).fit(X_train, y_train) # regularization\n",
    "\n",
    "#print('w', model.coef_)\n",
    "#print('b', model.intercept_)\n",
    "print('training accuracy', model.score(X_train, y_train))\n",
    "print('test accuracy', model.score(X_test, y_test))\n",
    "print('Number of features: ', np.sum(model.coef_ != 0))"
   ]
  },
  {
   "cell_type": "code",
   "execution_count": 50,
   "id": "609f7c9f",
   "metadata": {},
   "outputs": [],
   "source": [
    "Lasso_1 = Lasso().fit(X_train, y_train)\n",
    "Lasso_10 = Lasso(alpha = 0.01).fit(X_train, y_train)\n",
    "Lasso_01 = Lasso(alpha = 0.001).fit(X_train, y_train)\n",
    "Linear_T = LinearRegression().fit(X_train, y_train)"
   ]
  },
  {
   "cell_type": "code",
   "execution_count": 70,
   "id": "348d4479",
   "metadata": {},
   "outputs": [
    {
     "data": {
      "image/png": "[encoded data removed]",
      "text/plain": [
       "<Figure size 640x480 with 1 Axes>"
      ]
     },
     "metadata": {},
     "output_type": "display_data"
    }
   ],
   "source": [
    "plt.plot(figsize = (2,2))\n",
    "plt.plot(Lasso_1.coef_,'s', label = 'Lasso, alpha = 1')\n",
    "plt.plot(Lasso_10.coef_,'^', label = 'Lasso, alpha = 0.01')\n",
    "plt.plot(Lasso_01.coef_,'v', label = 'Lasso, alpha = 0.001')\n",
    "#plt.plot(Ridge_10.coef_,'o', label = 'Ridge')\n",
    "plt.xlabel('features')\n",
    "plt.ylabel('Magnitude of w')\n",
    "plt.legend(loc='upper right')\n",
    "plt.show()"
   ]
  },
  {
   "cell_type": "markdown",
   "id": "b0303700",
   "metadata": {},
   "source": [
    "# Linear for classification\n",
    "     models used:\n",
    "        logistics regression\n",
    "        support vector clasification"
   ]
  },
  {
   "cell_type": "markdown",
   "id": "673e87aa",
   "metadata": {},
   "source": [
    "## Logistic regression"
   ]
  },
  {
   "cell_type": "code",
   "execution_count": 62,
   "id": "6ab79946",
   "metadata": {},
   "outputs": [
    {
     "name": "stdout",
     "output_type": "stream",
     "text": [
      "training accuracy 0.9507042253521126\n",
      "test accuracy 0.9300699300699301\n",
      "Number of features:  30\n"
     ]
    }
   ],
   "source": [
    "from sklearn.datasets import load_breast_cancer\n",
    "cancer = load_breast_cancer()\n",
    "\n",
    "from sklearn.model_selection import train_test_split\n",
    "X_train, X_test, y_train, y_test = train_test_split(cancer['data'],cancer['target'], random_state = 2) # change random_state = 0, 1, 2 etc. and observe accuracy\n",
    "\n",
    "# logistic regression\n",
    "from sklearn.linear_model import LogisticRegression\n",
    "model = LogisticRegression().fit(X_train, y_train)\n",
    "\n",
    "# c is used for regularization: control the magnitude of coeficient w\n",
    "\n",
    "print('training accuracy', model.score(X_train, y_train))\n",
    "print('test accuracy', model.score(X_test, y_test))\n",
    "print('Number of features: ', np.sum(model.coef_ != 0))"
   ]
  },
  {
   "cell_type": "code",
   "execution_count": 64,
   "id": "f43c3bac",
   "metadata": {
    "scrolled": true
   },
   "outputs": [
    {
     "name": "stdout",
     "output_type": "stream",
     "text": [
      "training accuracy 0.9812206572769953\n",
      "test accuracy 0.958041958041958\n",
      "Number of features:  30\n"
     ]
    }
   ],
   "source": [
    "from sklearn.datasets import load_breast_cancer\n",
    "cancer = load_breast_cancer()\n",
    "\n",
    "from sklearn.model_selection import train_test_split\n",
    "X_train, X_test, y_train, y_test = train_test_split(cancer['data'],cancer['target'], random_state = 2) # change random_state = 0, 1, 2 etc. and observe accuracy\n",
    "\n",
    "# logistic regression\n",
    "from sklearn.linear_model import LogisticRegression\n",
    "model = LogisticRegression(C = 100, max_iter = 100000).fit(X_train, y_train)# c is used for regularization: control the magnitude of coeficient w\n",
    "\n",
    "print('training accuracy', model.score(X_train, y_train))\n",
    "print('test accuracy', model.score(X_test, y_test))\n",
    "print('Number of features: ', np.sum(model.coef_ != 0))"
   ]
  },
  {
   "cell_type": "code",
   "execution_count": 65,
   "id": "e51e9478",
   "metadata": {},
   "outputs": [
    {
     "name": "stdout",
     "output_type": "stream",
     "text": [
      "training accuracy 0.9507042253521126\n",
      "test accuracy 0.9370629370629371\n",
      "Number of features:  30\n"
     ]
    }
   ],
   "source": [
    "from sklearn.datasets import load_breast_cancer\n",
    "cancer = load_breast_cancer()\n",
    "\n",
    "from sklearn.model_selection import train_test_split\n",
    "X_train, X_test, y_train, y_test = train_test_split(cancer['data'],cancer['target'], random_state = 2) # change random_state = 0, 1, 2 etc. and observe accuracy\n",
    "\n",
    "# logistic regression\n",
    "from sklearn.linear_model import LogisticRegression\n",
    "model = LogisticRegression(C = 0.001, max_iter = 100000).fit(X_train, y_train)\n",
    "\n",
    "print('training accuracy', model.score(X_train, y_train))\n",
    "print('test accuracy', model.score(X_test, y_test))\n",
    "print('Number of features: ', np.sum(model.coef_ != 0))"
   ]
  }
 ],
 "metadata": {
  "kernelspec": {
   "display_name": "Python 3 (ipykernel)",
   "language": "python",
   "name": "python3"
  },
  "language_info": {
   "codemirror_mode": {
    "name": "ipython",
    "version": 3
   },
   "file_extension": ".py",
   "mimetype": "text/x-python",
   "name": "python",
   "nbconvert_exporter": "python",
   "pygments_lexer": "ipython3",
   "version": "3.10.9"
  }
 },
 "nbformat": 4,
 "nbformat_minor": 5
}
